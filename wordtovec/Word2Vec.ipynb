{
 "cells": [
  {
   "cell_type": "code",
   "execution_count": null,
   "metadata": {
    "id": "NORb9H0iA1pH"
   },
   "outputs": [],
   "source": []
  },
  {
   "cell_type": "code",
   "execution_count": 2,
   "metadata": {
    "id": "WPiiO6PJBEDd"
   },
   "outputs": [],
   "source": [
    "import io\n",
    "import itertools\n",
    "import numpy as np\n",
    "import os\n",
    "import re\n",
    "import string\n",
    "import tensorflow as tf\n",
    "import tqdm\n",
    "\n",
    "from tensorflow.keras import Model, Sequential\n",
    "from tensorflow.keras.layers import Activation, Dense, Dot, Embedding, Flatten, GlobalAveragePooling1D, Reshape\n",
    "from tensorflow.keras.layers.experimental.preprocessing import TextVectorization"
   ]
  },
  {
   "cell_type": "code",
   "execution_count": 3,
   "metadata": {
    "id": "wkEo2I2mBsR6"
   },
   "outputs": [],
   "source": [
    "SEED = 42\n",
    "AUTOTUNE = tf.data.experimental.AUTOTUNE"
   ]
  },
  {
   "cell_type": "code",
   "execution_count": 4,
   "metadata": {
    "colab": {
     "base_uri": "https://localhost:8080/"
    },
    "id": "3a_hM2d9CHPv",
    "outputId": "02bf4927-7fc6-418f-f75d-23c5adbb2ce4"
   },
   "outputs": [
    {
     "name": "stdout",
     "output_type": "stream",
     "text": [
      "8\n"
     ]
    }
   ],
   "source": [
    "sentence = \"The wide road shimmered in the hot sun\"\n",
    "tokens = list(sentence.lower().split())\n",
    "print(len(tokens))"
   ]
  },
  {
   "cell_type": "code",
   "execution_count": 5,
   "metadata": {
    "colab": {
     "base_uri": "https://localhost:8080/"
    },
    "id": "hf3TU4UdCeJ_",
    "outputId": "333e036a-faa9-4b22-a3dd-9abb3e4a989c"
   },
   "outputs": [
    {
     "name": "stdout",
     "output_type": "stream",
     "text": [
      "{'<pad>': 0, 'the': 1, 'wide': 2, 'road': 3, 'shimmered': 4, 'in': 5, 'hot': 6, 'sun': 7}\n",
      "{0: '<pad>', 1: 'the', 2: 'wide', 3: 'road', 4: 'shimmered', 5: 'in', 6: 'hot', 7: 'sun'}\n",
      "[1, 2, 3, 4, 5, 1, 6, 7]\n"
     ]
    }
   ],
   "source": [
    "# Creating a vocabulary to save mappings from tokens to integer indicies\n",
    "\n",
    "vocab, index = {}, 1 # --> index starts from 1\n",
    "vocab['<pad>'] = 0   # --> add a padding token\n",
    "\n",
    "for token in tokens:\n",
    "  if token not in vocab:\n",
    "    vocab[token] = index\n",
    "    index = index + 1\n",
    "\n",
    "vocab_size = len(vocab)\n",
    "print(vocab)\n",
    "\n",
    "inverse_vocab = {index: token for token, index in vocab.items()}\n",
    "print(inverse_vocab)\n",
    "# Vectorizing the sentence\n",
    "example_sequence = [vocab[word] for word in tokens]\n",
    "print(example_sequence)"
   ]
  },
  {
   "cell_type": "code",
   "execution_count": 6,
   "metadata": {
    "colab": {
     "base_uri": "https://localhost:8080/"
    },
    "id": "vvJ06lX7DstS",
    "outputId": "daee08d6-2afb-4e71-dc4b-1fab7cab5813"
   },
   "outputs": [
    {
     "name": "stdout",
     "output_type": "stream",
     "text": [
      "26\n",
      "(1, 6): (the, hot)\n",
      "(3, 1): (road, the)\n",
      "(6, 1): (hot, the)\n",
      "(7, 6): (sun, hot)\n",
      "(3, 4): (road, shimmered)\n"
     ]
    }
   ],
   "source": [
    "# Generate skip-grams from one sentence\n",
    "# +Positive skip-grams\n",
    "window_size = 2\n",
    "positive_skip_grams, _ = tf.keras.preprocessing.sequence.skipgrams(\n",
    "    sequence = example_sequence,\n",
    "    vocabulary_size = vocab_size,\n",
    "    window_size = window_size,\n",
    "    negative_samples = 0\n",
    ")\n",
    "\n",
    "print(len(positive_skip_grams))\n",
    "# Let's look at some positive skip-grams\n",
    "for target, context in positive_skip_grams[0:5]:\n",
    "  print(f\"({target}, {context}): ({inverse_vocab[target]}, {inverse_vocab[context]})\")"
   ]
  },
  {
   "cell_type": "code",
   "execution_count": 7,
   "metadata": {
    "colab": {
     "base_uri": "https://localhost:8080/"
    },
    "id": "psY5OX6CGUv_",
    "outputId": "880ce4fb-9e5c-4058-89a0-848582aa37d7"
   },
   "outputs": [
    {
     "name": "stdout",
     "output_type": "stream",
     "text": [
      "tf.Tensor([2 1 4 3], shape=(4,), dtype=int64)\n",
      "['wide', 'the', 'shimmered', 'road']\n",
      "\n",
      "target_index    : 1\n",
      "target_word     : the\n",
      "context_indices : [6 2 1 4 3]\n",
      "context_words   : ['hot', 'wide', 'the', 'shimmered', 'road']\n",
      "label           : [1 0 0 0 0]\n"
     ]
    }
   ],
   "source": [
    "# SETP0 -Negative skip-gram sampling\n",
    "# For creating this, we need to sample random words from the vocabulary.\n",
    "target_word, context_word = positive_skip_grams[0]\n",
    "\n",
    "# Setting the number of negative samples per positive context.\n",
    "num_ns = 4\n",
    "\n",
    "context_class = tf.reshape(tf.constant(context_word, dtype=\"int64\"), (1, 1))\n",
    "negative_sampling_candidates, _, _ = tf.random.log_uniform_candidate_sampler(\n",
    "    true_classes = context_class, # class, that should be sampled as 'positive'\n",
    "    num_true = 1, # each positive skip-gram has 1 positive context class\n",
    "    num_sampled = num_ns, # number of negative context words to sample\n",
    "    unique = True,  # all the negative samples should be unique\n",
    "    range_max = vocab_size, # pick the index of the samples from [0, vocab_size]\n",
    "    seed = SEED, # seed for reproducibility\n",
    "    name = \"negative_sampling\" # the name of this operation\n",
    ")\n",
    "\n",
    "print(negative_sampling_candidates)\n",
    "print([inverse_vocab[index.numpy()] for index in negative_sampling_candidates])\n",
    "\n",
    "\n",
    "# STEP 1 -Negative skip-gram sampling\n",
    "# Constructing one training example\n",
    "\n",
    "# So this is what they claim:\n",
    "# For a given positive (target_word, context_word) skip-gram, we now also have num_ns negative\n",
    "# samplex context words, that do not appear in the window size neighborhood of target_word\n",
    "\n",
    "# ---\n",
    "# Add a dimension so we can use concatenation (on the next step).\n",
    "negative_sampling_candidates = tf.expand_dims(negative_sampling_candidates, 1)\n",
    "# Concat positive context word with negative sampled words.\n",
    "context = tf.concat([context_class, negative_sampling_candidates], 0)\n",
    "# Label first context word as 1 (positive), followe by num_ns 0s (negative).\n",
    "label = tf.constant([1] + [0] * num_ns, dtype=\"int64\")\n",
    "\n",
    "# Reshape target to shape (1,) and context and label to (num_ns+1,).\n",
    "target = tf.squeeze(target_word)\n",
    "context = tf.squeeze(context)\n",
    "label = tf.squeeze(label)\n",
    "\n",
    "# Now let's look at the beautiful stuff we have created :) ...\n",
    "print()\n",
    "print(f\"target_index    : {target}\")\n",
    "print(f\"target_word     : {inverse_vocab[target_word]}\")\n",
    "print(f\"context_indices : {context}\")\n",
    "print(f\"context_words   : {[inverse_vocab[c.numpy()] for c in context ]}\")\n",
    "print(f\"label           : {label}\")\n",
    "\n"
   ]
  },
  {
   "cell_type": "code",
   "execution_count": 8,
   "metadata": {
    "colab": {
     "base_uri": "https://localhost:8080/",
     "height": 323
    },
    "id": "N467pjPAJ0M3",
    "outputId": "4d06a5bd-2832-4484-ff95-88fe6065154c"
   },
   "outputs": [
    {
     "name": "stdout",
     "output_type": "stream",
     "text": [
      "[0.00315225 0.00315225 0.00547597 0.00741556 0.00912817 0.01068435\n",
      " 0.01212381 0.01347162 0.01474487 0.0159558 ]\n"
     ]
    },
    {
     "data": {
      "text/plain": [
       "[<matplotlib.lines.Line2D at 0x7fd8d02ad820>]"
      ]
     },
     "execution_count": 8,
     "metadata": {},
     "output_type": "execute_result"
    },
    {
     "data": {
      "image/png": "[encoded data removed]",
      "text/plain": [
       "<Figure size 432x288 with 1 Axes>"
      ]
     },
     "metadata": {
      "needs_background": "light"
     },
     "output_type": "display_data"
    }
   ],
   "source": [
    "# Good job!\n",
    "# Now let's compile all steps into one function! :)\n",
    "\n",
    "# --- Skip-gram sampling table ---\n",
    "# Training examples obtained from sampling commonly occuring words, \n",
    "# (such as: the, is, on) don't add much useful information for the model to learn from.\n",
    "# Mikolov et al. suggets subsampling of frequent words as a helpful practice to\n",
    "# improve embedding quality\n",
    "\n",
    "# The skipgrams() function accepts a sampling table argument to encode probabilities\n",
    "# of sampling any token. We can use make_sampling_table() to generate a\n",
    "# word-frequency rank based probabilistic sampling table and pass it to skipgrams() function\n",
    "\n",
    "# Let's take a look at the sampling probabilities for a vocab_size of 10\n",
    "sampling_table = tf.keras.preprocessing.sequence.make_sampling_table(size=10)\n",
    "print(sampling_table)\n",
    "\n",
    "import matplotlib.pyplot as plt\n",
    "plt.plot(sampling_table)\n",
    "\n",
    "# sampling_table[i] denotes the probability of sampling the i-th most common word \n",
    "# in a dataset. The function assumes a Zipf's distribution of the word frequencies for sampling.\n",
    "\n"
   ]
  },
  {
   "cell_type": "code",
   "execution_count": 20,
   "metadata": {
    "id": "G4vbC9tVRLbL"
   },
   "outputs": [],
   "source": [
    "# --- Generate training data ---\n",
    "\n",
    "# Compile all the steps described above into a function that can be called on a list\n",
    "# of vectorized sentences obtained from any text dataset.\n",
    "# Notice that the sampling table is built before sampling skip-gram word pairs.\n",
    "# We will use this function in the later sections.\n",
    "\n",
    "# The function generates skip-gram pairs with negative sampling for a list of \n",
    "# sequencies (int-encoded sentences) based on window size, number of negative samples,\n",
    "# and vocabulary size\n",
    "\n",
    "def generate_training_data(sequences, window_size, num_ns, vocab_size, seed):\n",
    "  # Elements of each training example are appended to these lists.\n",
    "  targets, contexts, labels = [], [], []\n",
    "\n",
    "  # Build the sampling table for vocab_size tokens.\n",
    "  sampling_table = tf.keras.preprocessing.sequence.make_sampling_table(vocab_size)\n",
    "\n",
    "  # Iterate over all sequences (sentences) in dataset.\n",
    "  for sequence in tqdm.tqdm(sequences):\n",
    "\n",
    "    # Generate positive skip-gram pairs for a sequence (sentence).\n",
    "    positive_skip_grams, _ = tf.keras.preprocessing.sequence.skipgrams(\n",
    "          sequence, \n",
    "          vocabulary_size=vocab_size,\n",
    "          sampling_table=sampling_table,\n",
    "          window_size=window_size,\n",
    "          negative_samples=0)\n",
    "\n",
    "    # Iterate over each positive skip-gram pair to produce training examples \n",
    "    # with positive context word and negative samples.\n",
    "    for target_word, context_word in positive_skip_grams:\n",
    "      context_class = tf.expand_dims(\n",
    "          tf.constant([context_word], dtype=\"int64\"), 1)\n",
    "      negative_sampling_candidates, _, _ = tf.random.log_uniform_candidate_sampler(\n",
    "          true_classes=context_class,\n",
    "          num_true=1, \n",
    "          num_sampled=num_ns, \n",
    "          unique=True, \n",
    "          range_max=vocab_size, \n",
    "          seed=SEED, \n",
    "          name=\"negative_sampling\")\n",
    "\n",
    "      # Build context and label vectors (for one target word)\n",
    "      negative_sampling_candidates = tf.expand_dims(\n",
    "          negative_sampling_candidates, 1)\n",
    "\n",
    "      context = tf.concat([context_class, negative_sampling_candidates], 0)\n",
    "      label = tf.constant([1] + [0]*num_ns, dtype=\"int64\")\n",
    "\n",
    "      # Append each element from the training example to global lists.\n",
    "      targets.append(target_word)\n",
    "      contexts.append(context)\n",
    "      labels.append(label)\n",
    "\n",
    "  return targets, contexts, labels\n"
   ]
  },
  {
   "cell_type": "code",
   "execution_count": 21,
   "metadata": {
    "id": "RpVQ2qp9X6Vp"
   },
   "outputs": [],
   "source": [
    "# Prepare training data for Word2Vec\n",
    "# path_to_file = tf.keras.utils.get_file('shakespeare.txt', 'https://storage.googleapis.com/download.tensorflow.org/data/shakespeare.txt')\n",
    "path_to_file = 'databasetrain.txt'\n"
   ]
  },
  {
   "cell_type": "code",
   "execution_count": 22,
   "metadata": {
    "colab": {
     "base_uri": "https://localhost:8080/"
    },
    "id": "4-478V5CfqMK",
    "outputId": "30ff2feb-a598-4547-f83d-15cc02d168b2"
   },
   "outputs": [
    {
     "name": "stdout",
     "output_type": "stream",
     "text": [
      "databasetrain.txt\n"
     ]
    }
   ],
   "source": [
    "print(path_to_file)"
   ]
  },
  {
   "cell_type": "code",
   "execution_count": 23,
   "metadata": {
    "colab": {
     "base_uri": "https://localhost:8080/"
    },
    "id": "RB71XLuqYCOh",
    "outputId": "48327329-9368-451b-949b-b072f7615004"
   },
   "outputs": [
    {
     "name": "stdout",
     "output_type": "stream",
     "text": [
      "\n",
      "öcsi az a kisfiú <vesszõ> aki mindig a porolón \"ácsingózik\" <vesszõ> mert onnan messzire lehet látni <pont>\n",
      "s mert gyakran kapaszkodik fel a porolóra <vesszõ> azt tartja magáról <vesszõ> hogy ő egy »világot nézett« gyermek <pont>\n",
      "valahányszor találkozom vele <vesszõ> egy <kötõjel> egy történettel áll elő <vesszõ> és én szó szerint próbálom lejegyezni azokat <pont>\n",
      "úgyhogy valójában tollbamondások ezek <vesszõ> noha <kötõjel> mint öcsi mondja <kötõjel> nekem ahhoz iskolásnak kellene lennem <pont> <pont>\n",
      "a tegnap már négyéves voltam <vesszõ> úgyhogy ezután nemcsak gyuri <vesszõ> a testvérem <vesszõ> lesz nagy fiú nálunk <vesszõ> hanem én is <pont>\n",
      "ha nagyon akarom <vesszõ> a cipőmet is be tudom kötni <vesszõ> csak nem mindig sikerül <pont>\n",
      "de gyurit nem kell megkérni ilyesmire <vesszõ> mert ő azt mondja <vesszõ> kínlódjak egy kicsit <vesszõ> az csak használ <pont>\n",
      "lehet <vesszõ> használ neki <vesszõ> de nekem nem <pont>\n",
      "most <vesszõ> hogy négyéves vagyok <vesszõ> őt nem is kérem meg semmire; csak nagymamát <vesszõ> mert nagyi meg annak örvend <vesszõ> ha segíthet <pont>\n"
     ]
    }
   ],
   "source": [
    "# Read text from the file and take a look at the first few lines.\n",
    "with open(path_to_file) as f: \n",
    "  lines = f.read().splitlines()\n",
    "for line in lines[:10]:\n",
    "  print(line)\n"
   ]
  },
  {
   "cell_type": "code",
   "execution_count": 24,
   "metadata": {
    "id": "u_ju4Ol2YMB1"
   },
   "outputs": [],
   "source": [
    "# Use the non empty lines to construct a TextLineDataset object for next steps\n",
    "text_ds = tf.data.TextLineDataset(path_to_file).filter(lambda x: tf.cast(tf.strings.length(x), bool))"
   ]
  },
  {
   "cell_type": "code",
   "execution_count": 27,
   "metadata": {},
   "outputs": [
    {
     "data": {
      "text/plain": [
       "<FilterDataset shapes: (), types: tf.string>"
      ]
     },
     "execution_count": 27,
     "metadata": {},
     "output_type": "execute_result"
    }
   ],
   "source": [
    "text_ds"
   ]
  },
  {
   "cell_type": "code",
   "execution_count": 25,
   "metadata": {
    "colab": {
     "base_uri": "https://localhost:8080/"
    },
    "id": "59t7sEeiYxlh",
    "outputId": "37bb0e50-f587-4273-f406-1eda38eadefd"
   },
   "outputs": [
    {
     "name": "stdout",
     "output_type": "stream",
     "text": [
      "[b'vessz\\xc3\\xb5', b'a', b'pont', b'k\\xc3\\xb6t\\xc3\\xb5jel', b'az', b'hogy', b's', b'nem', b'is', b'egy', b'\\xc3\\xa9s', b'de', b'kett\\xc3\\xb5spont', b'volt', b'meg', b'k\\xc3\\xa9rd\\xc5\\x91jel', b'csak', b'ha', b'sem', b'm\\xc3\\xa9g']\n"
     ]
    },
    {
     "ename": "ValueError",
     "evalue": "squeeze_dims[0] not in [-1,1). for '{{node text_vectorization_2/Squeeze}} = Squeeze[T=DT_STRING, squeeze_dims=[1]](text_vectorization_2/StaticRegexReplace)' with input shapes: [?].",
     "output_type": "error",
     "traceback": [
      "\u001b[0;31m---------------------------------------------------------------------------\u001b[0m",
      "\u001b[0;31mInvalidArgumentError\u001b[0m                      Traceback (most recent call last)",
      "\u001b[0;32m~/anaconda3/lib/python3.8/site-packages/tensorflow/python/framework/ops.py\u001b[0m in \u001b[0;36m_create_c_op\u001b[0;34m(graph, node_def, inputs, control_inputs, op_def)\u001b[0m\n\u001b[1;32m   1653\u001b[0m   \u001b[0;32mtry\u001b[0m\u001b[0;34m:\u001b[0m\u001b[0;34m\u001b[0m\u001b[0;34m\u001b[0m\u001b[0m\n\u001b[0;32m-> 1654\u001b[0;31m     \u001b[0mc_op\u001b[0m \u001b[0;34m=\u001b[0m \u001b[0mpywrap_tf_session\u001b[0m\u001b[0;34m.\u001b[0m\u001b[0mTF_FinishOperation\u001b[0m\u001b[0;34m(\u001b[0m\u001b[0mop_desc\u001b[0m\u001b[0;34m)\u001b[0m\u001b[0;34m\u001b[0m\u001b[0;34m\u001b[0m\u001b[0m\n\u001b[0m\u001b[1;32m   1655\u001b[0m   \u001b[0;32mexcept\u001b[0m \u001b[0merrors\u001b[0m\u001b[0;34m.\u001b[0m\u001b[0mInvalidArgumentError\u001b[0m \u001b[0;32mas\u001b[0m \u001b[0me\u001b[0m\u001b[0;34m:\u001b[0m\u001b[0;34m\u001b[0m\u001b[0;34m\u001b[0m\u001b[0m\n",
      "\u001b[0;31mInvalidArgumentError\u001b[0m: squeeze_dims[0] not in [-1,1). for '{{node text_vectorization_2/Squeeze}} = Squeeze[T=DT_STRING, squeeze_dims=[1]](text_vectorization_2/StaticRegexReplace)' with input shapes: [?].",
      "\nDuring handling of the above exception, another exception occurred:\n",
      "\u001b[0;31mValueError\u001b[0m                                Traceback (most recent call last)",
      "\u001b[0;32m<ipython-input-25-45adcaf1fbae>\u001b[0m in \u001b[0;36m<module>\u001b[0;34m\u001b[0m\n\u001b[1;32m     40\u001b[0m \u001b[0;34m\u001b[0m\u001b[0m\n\u001b[1;32m     41\u001b[0m \u001b[0;31m# Vectorize the data in text_ds\u001b[0m\u001b[0;34m\u001b[0m\u001b[0;34m\u001b[0m\u001b[0;34m\u001b[0m\u001b[0m\n\u001b[0;32m---> 42\u001b[0;31m \u001b[0mtext_vector_ds\u001b[0m \u001b[0;34m=\u001b[0m \u001b[0mtext_ds\u001b[0m\u001b[0;34m.\u001b[0m\u001b[0mbatch\u001b[0m\u001b[0;34m(\u001b[0m\u001b[0;36m1024\u001b[0m\u001b[0;34m)\u001b[0m\u001b[0;34m.\u001b[0m\u001b[0mprefetch\u001b[0m\u001b[0;34m(\u001b[0m\u001b[0mAUTOTUNE\u001b[0m\u001b[0;34m)\u001b[0m\u001b[0;34m.\u001b[0m\u001b[0mmap\u001b[0m\u001b[0;34m(\u001b[0m\u001b[0mvectorize_layer\u001b[0m\u001b[0;34m)\u001b[0m\u001b[0;34m.\u001b[0m\u001b[0munbatch\u001b[0m\u001b[0;34m(\u001b[0m\u001b[0;34m)\u001b[0m\u001b[0;34m\u001b[0m\u001b[0;34m\u001b[0m\u001b[0m\n\u001b[0m\u001b[1;32m     43\u001b[0m \u001b[0;34m\u001b[0m\u001b[0m\n\u001b[1;32m     44\u001b[0m \u001b[0;31m# Obtain sequnences from the dataset\u001b[0m\u001b[0;34m\u001b[0m\u001b[0;34m\u001b[0m\u001b[0;34m\u001b[0m\u001b[0m\n",
      "\u001b[0;32m~/anaconda3/lib/python3.8/site-packages/tensorflow/python/data/ops/dataset_ops.py\u001b[0m in \u001b[0;36mmap\u001b[0;34m(self, map_func, num_parallel_calls, deterministic)\u001b[0m\n\u001b[1;32m   1619\u001b[0m     \"\"\"\n\u001b[1;32m   1620\u001b[0m     \u001b[0;32mif\u001b[0m \u001b[0mnum_parallel_calls\u001b[0m \u001b[0;32mis\u001b[0m \u001b[0;32mNone\u001b[0m\u001b[0;34m:\u001b[0m\u001b[0;34m\u001b[0m\u001b[0;34m\u001b[0m\u001b[0m\n\u001b[0;32m-> 1621\u001b[0;31m       \u001b[0;32mreturn\u001b[0m \u001b[0mMapDataset\u001b[0m\u001b[0;34m(\u001b[0m\u001b[0mself\u001b[0m\u001b[0;34m,\u001b[0m \u001b[0mmap_func\u001b[0m\u001b[0;34m,\u001b[0m \u001b[0mpreserve_cardinality\u001b[0m\u001b[0;34m=\u001b[0m\u001b[0;32mTrue\u001b[0m\u001b[0;34m)\u001b[0m\u001b[0;34m\u001b[0m\u001b[0;34m\u001b[0m\u001b[0m\n\u001b[0m\u001b[1;32m   1622\u001b[0m     \u001b[0;32melse\u001b[0m\u001b[0;34m:\u001b[0m\u001b[0;34m\u001b[0m\u001b[0;34m\u001b[0m\u001b[0m\n\u001b[1;32m   1623\u001b[0m       return ParallelMapDataset(\n",
      "\u001b[0;32m~/anaconda3/lib/python3.8/site-packages/tensorflow/python/data/ops/dataset_ops.py\u001b[0m in \u001b[0;36m__init__\u001b[0;34m(self, input_dataset, map_func, use_inter_op_parallelism, preserve_cardinality, use_legacy_function)\u001b[0m\n\u001b[1;32m   3975\u001b[0m     \u001b[0mself\u001b[0m\u001b[0;34m.\u001b[0m\u001b[0m_use_inter_op_parallelism\u001b[0m \u001b[0;34m=\u001b[0m \u001b[0muse_inter_op_parallelism\u001b[0m\u001b[0;34m\u001b[0m\u001b[0;34m\u001b[0m\u001b[0m\n\u001b[1;32m   3976\u001b[0m     \u001b[0mself\u001b[0m\u001b[0;34m.\u001b[0m\u001b[0m_preserve_cardinality\u001b[0m \u001b[0;34m=\u001b[0m \u001b[0mpreserve_cardinality\u001b[0m\u001b[0;34m\u001b[0m\u001b[0;34m\u001b[0m\u001b[0m\n\u001b[0;32m-> 3977\u001b[0;31m     self._map_func = StructuredFunctionWrapper(\n\u001b[0m\u001b[1;32m   3978\u001b[0m         \u001b[0mmap_func\u001b[0m\u001b[0;34m,\u001b[0m\u001b[0;34m\u001b[0m\u001b[0;34m\u001b[0m\u001b[0m\n\u001b[1;32m   3979\u001b[0m         \u001b[0mself\u001b[0m\u001b[0;34m.\u001b[0m\u001b[0m_transformation_name\u001b[0m\u001b[0;34m(\u001b[0m\u001b[0;34m)\u001b[0m\u001b[0;34m,\u001b[0m\u001b[0;34m\u001b[0m\u001b[0;34m\u001b[0m\u001b[0m\n",
      "\u001b[0;32m~/anaconda3/lib/python3.8/site-packages/tensorflow/python/data/ops/dataset_ops.py\u001b[0m in \u001b[0;36m__init__\u001b[0;34m(self, func, transformation_name, dataset, input_classes, input_shapes, input_types, input_structure, add_to_graph, use_legacy_function, defun_kwargs)\u001b[0m\n\u001b[1;32m   3219\u001b[0m       \u001b[0;32mwith\u001b[0m \u001b[0mtracking\u001b[0m\u001b[0;34m.\u001b[0m\u001b[0mresource_tracker_scope\u001b[0m\u001b[0;34m(\u001b[0m\u001b[0mresource_tracker\u001b[0m\u001b[0;34m)\u001b[0m\u001b[0;34m:\u001b[0m\u001b[0;34m\u001b[0m\u001b[0;34m\u001b[0m\u001b[0m\n\u001b[1;32m   3220\u001b[0m         \u001b[0;31m# TODO(b/141462134): Switch to using garbage collection.\u001b[0m\u001b[0;34m\u001b[0m\u001b[0;34m\u001b[0m\u001b[0;34m\u001b[0m\u001b[0m\n\u001b[0;32m-> 3221\u001b[0;31m         \u001b[0mself\u001b[0m\u001b[0;34m.\u001b[0m\u001b[0m_function\u001b[0m \u001b[0;34m=\u001b[0m \u001b[0mwrapper_fn\u001b[0m\u001b[0;34m.\u001b[0m\u001b[0mget_concrete_function\u001b[0m\u001b[0;34m(\u001b[0m\u001b[0;34m)\u001b[0m\u001b[0;34m\u001b[0m\u001b[0;34m\u001b[0m\u001b[0m\n\u001b[0m\u001b[1;32m   3222\u001b[0m \u001b[0;34m\u001b[0m\u001b[0m\n\u001b[1;32m   3223\u001b[0m         \u001b[0;32mif\u001b[0m \u001b[0madd_to_graph\u001b[0m\u001b[0;34m:\u001b[0m\u001b[0;34m\u001b[0m\u001b[0;34m\u001b[0m\u001b[0m\n",
      "\u001b[0;32m~/anaconda3/lib/python3.8/site-packages/tensorflow/python/eager/function.py\u001b[0m in \u001b[0;36mget_concrete_function\u001b[0;34m(self, *args, **kwargs)\u001b[0m\n\u001b[1;32m   2529\u001b[0m       \u001b[0;34m**\u001b[0m\u001b[0mkwargs\u001b[0m\u001b[0;34m:\u001b[0m \u001b[0minputs\u001b[0m \u001b[0mto\u001b[0m \u001b[0mspecialize\u001b[0m \u001b[0mon\u001b[0m\u001b[0;34m.\u001b[0m\u001b[0;34m\u001b[0m\u001b[0;34m\u001b[0m\u001b[0m\n\u001b[1;32m   2530\u001b[0m     \"\"\"\n\u001b[0;32m-> 2531\u001b[0;31m     graph_function = self._get_concrete_function_garbage_collected(\n\u001b[0m\u001b[1;32m   2532\u001b[0m         *args, **kwargs)\n\u001b[1;32m   2533\u001b[0m     \u001b[0mgraph_function\u001b[0m\u001b[0;34m.\u001b[0m\u001b[0m_garbage_collector\u001b[0m\u001b[0;34m.\u001b[0m\u001b[0mrelease\u001b[0m\u001b[0;34m(\u001b[0m\u001b[0;34m)\u001b[0m  \u001b[0;31m# pylint: disable=protected-access\u001b[0m\u001b[0;34m\u001b[0m\u001b[0;34m\u001b[0m\u001b[0m\n",
      "\u001b[0;32m~/anaconda3/lib/python3.8/site-packages/tensorflow/python/eager/function.py\u001b[0m in \u001b[0;36m_get_concrete_function_garbage_collected\u001b[0;34m(self, *args, **kwargs)\u001b[0m\n\u001b[1;32m   2494\u001b[0m       \u001b[0margs\u001b[0m\u001b[0;34m,\u001b[0m \u001b[0mkwargs\u001b[0m \u001b[0;34m=\u001b[0m \u001b[0;32mNone\u001b[0m\u001b[0;34m,\u001b[0m \u001b[0;32mNone\u001b[0m\u001b[0;34m\u001b[0m\u001b[0;34m\u001b[0m\u001b[0m\n\u001b[1;32m   2495\u001b[0m     \u001b[0;32mwith\u001b[0m \u001b[0mself\u001b[0m\u001b[0;34m.\u001b[0m\u001b[0m_lock\u001b[0m\u001b[0;34m:\u001b[0m\u001b[0;34m\u001b[0m\u001b[0;34m\u001b[0m\u001b[0m\n\u001b[0;32m-> 2496\u001b[0;31m       \u001b[0mgraph_function\u001b[0m\u001b[0;34m,\u001b[0m \u001b[0margs\u001b[0m\u001b[0;34m,\u001b[0m \u001b[0mkwargs\u001b[0m \u001b[0;34m=\u001b[0m \u001b[0mself\u001b[0m\u001b[0;34m.\u001b[0m\u001b[0m_maybe_define_function\u001b[0m\u001b[0;34m(\u001b[0m\u001b[0margs\u001b[0m\u001b[0;34m,\u001b[0m \u001b[0mkwargs\u001b[0m\u001b[0;34m)\u001b[0m\u001b[0;34m\u001b[0m\u001b[0;34m\u001b[0m\u001b[0m\n\u001b[0m\u001b[1;32m   2497\u001b[0m       \u001b[0;32mif\u001b[0m \u001b[0mself\u001b[0m\u001b[0;34m.\u001b[0m\u001b[0minput_signature\u001b[0m\u001b[0;34m:\u001b[0m\u001b[0;34m\u001b[0m\u001b[0;34m\u001b[0m\u001b[0m\n\u001b[1;32m   2498\u001b[0m         \u001b[0margs\u001b[0m \u001b[0;34m=\u001b[0m \u001b[0mself\u001b[0m\u001b[0;34m.\u001b[0m\u001b[0minput_signature\u001b[0m\u001b[0;34m\u001b[0m\u001b[0;34m\u001b[0m\u001b[0m\n",
      "\u001b[0;32m~/anaconda3/lib/python3.8/site-packages/tensorflow/python/eager/function.py\u001b[0m in \u001b[0;36m_maybe_define_function\u001b[0;34m(self, args, kwargs)\u001b[0m\n\u001b[1;32m   2775\u001b[0m \u001b[0;34m\u001b[0m\u001b[0m\n\u001b[1;32m   2776\u001b[0m       \u001b[0mself\u001b[0m\u001b[0;34m.\u001b[0m\u001b[0m_function_cache\u001b[0m\u001b[0;34m.\u001b[0m\u001b[0mmissed\u001b[0m\u001b[0;34m.\u001b[0m\u001b[0madd\u001b[0m\u001b[0;34m(\u001b[0m\u001b[0mcall_context_key\u001b[0m\u001b[0;34m)\u001b[0m\u001b[0;34m\u001b[0m\u001b[0;34m\u001b[0m\u001b[0m\n\u001b[0;32m-> 2777\u001b[0;31m       \u001b[0mgraph_function\u001b[0m \u001b[0;34m=\u001b[0m \u001b[0mself\u001b[0m\u001b[0;34m.\u001b[0m\u001b[0m_create_graph_function\u001b[0m\u001b[0;34m(\u001b[0m\u001b[0margs\u001b[0m\u001b[0;34m,\u001b[0m \u001b[0mkwargs\u001b[0m\u001b[0;34m)\u001b[0m\u001b[0;34m\u001b[0m\u001b[0;34m\u001b[0m\u001b[0m\n\u001b[0m\u001b[1;32m   2778\u001b[0m       \u001b[0mself\u001b[0m\u001b[0;34m.\u001b[0m\u001b[0m_function_cache\u001b[0m\u001b[0;34m.\u001b[0m\u001b[0mprimary\u001b[0m\u001b[0;34m[\u001b[0m\u001b[0mcache_key\u001b[0m\u001b[0;34m]\u001b[0m \u001b[0;34m=\u001b[0m \u001b[0mgraph_function\u001b[0m\u001b[0;34m\u001b[0m\u001b[0;34m\u001b[0m\u001b[0m\n\u001b[1;32m   2779\u001b[0m       \u001b[0;32mreturn\u001b[0m \u001b[0mgraph_function\u001b[0m\u001b[0;34m,\u001b[0m \u001b[0margs\u001b[0m\u001b[0;34m,\u001b[0m \u001b[0mkwargs\u001b[0m\u001b[0;34m\u001b[0m\u001b[0;34m\u001b[0m\u001b[0m\n",
      "\u001b[0;32m~/anaconda3/lib/python3.8/site-packages/tensorflow/python/eager/function.py\u001b[0m in \u001b[0;36m_create_graph_function\u001b[0;34m(self, args, kwargs, override_flat_arg_shapes)\u001b[0m\n\u001b[1;32m   2655\u001b[0m     \u001b[0marg_names\u001b[0m \u001b[0;34m=\u001b[0m \u001b[0mbase_arg_names\u001b[0m \u001b[0;34m+\u001b[0m \u001b[0mmissing_arg_names\u001b[0m\u001b[0;34m\u001b[0m\u001b[0;34m\u001b[0m\u001b[0m\n\u001b[1;32m   2656\u001b[0m     graph_function = ConcreteFunction(\n\u001b[0;32m-> 2657\u001b[0;31m         func_graph_module.func_graph_from_py_func(\n\u001b[0m\u001b[1;32m   2658\u001b[0m             \u001b[0mself\u001b[0m\u001b[0;34m.\u001b[0m\u001b[0m_name\u001b[0m\u001b[0;34m,\u001b[0m\u001b[0;34m\u001b[0m\u001b[0;34m\u001b[0m\u001b[0m\n\u001b[1;32m   2659\u001b[0m             \u001b[0mself\u001b[0m\u001b[0;34m.\u001b[0m\u001b[0m_python_function\u001b[0m\u001b[0;34m,\u001b[0m\u001b[0;34m\u001b[0m\u001b[0;34m\u001b[0m\u001b[0m\n",
      "\u001b[0;32m~/anaconda3/lib/python3.8/site-packages/tensorflow/python/framework/func_graph.py\u001b[0m in \u001b[0;36mfunc_graph_from_py_func\u001b[0;34m(name, python_func, args, kwargs, signature, func_graph, autograph, autograph_options, add_control_dependencies, arg_names, op_return_value, collections, capture_by_value, override_flat_arg_shapes)\u001b[0m\n\u001b[1;32m    979\u001b[0m         \u001b[0m_\u001b[0m\u001b[0;34m,\u001b[0m \u001b[0moriginal_func\u001b[0m \u001b[0;34m=\u001b[0m \u001b[0mtf_decorator\u001b[0m\u001b[0;34m.\u001b[0m\u001b[0munwrap\u001b[0m\u001b[0;34m(\u001b[0m\u001b[0mpython_func\u001b[0m\u001b[0;34m)\u001b[0m\u001b[0;34m\u001b[0m\u001b[0;34m\u001b[0m\u001b[0m\n\u001b[1;32m    980\u001b[0m \u001b[0;34m\u001b[0m\u001b[0m\n\u001b[0;32m--> 981\u001b[0;31m       \u001b[0mfunc_outputs\u001b[0m \u001b[0;34m=\u001b[0m \u001b[0mpython_func\u001b[0m\u001b[0;34m(\u001b[0m\u001b[0;34m*\u001b[0m\u001b[0mfunc_args\u001b[0m\u001b[0;34m,\u001b[0m \u001b[0;34m**\u001b[0m\u001b[0mfunc_kwargs\u001b[0m\u001b[0;34m)\u001b[0m\u001b[0;34m\u001b[0m\u001b[0;34m\u001b[0m\u001b[0m\n\u001b[0m\u001b[1;32m    982\u001b[0m \u001b[0;34m\u001b[0m\u001b[0m\n\u001b[1;32m    983\u001b[0m       \u001b[0;31m# invariant: `func_outputs` contains only Tensors, CompositeTensors,\u001b[0m\u001b[0;34m\u001b[0m\u001b[0;34m\u001b[0m\u001b[0;34m\u001b[0m\u001b[0m\n",
      "\u001b[0;32m~/anaconda3/lib/python3.8/site-packages/tensorflow/python/data/ops/dataset_ops.py\u001b[0m in \u001b[0;36mwrapper_fn\u001b[0;34m(*args)\u001b[0m\n\u001b[1;32m   3212\u001b[0m           attributes=defun_kwargs)\n\u001b[1;32m   3213\u001b[0m       \u001b[0;32mdef\u001b[0m \u001b[0mwrapper_fn\u001b[0m\u001b[0;34m(\u001b[0m\u001b[0;34m*\u001b[0m\u001b[0margs\u001b[0m\u001b[0;34m)\u001b[0m\u001b[0;34m:\u001b[0m  \u001b[0;31m# pylint: disable=missing-docstring\u001b[0m\u001b[0;34m\u001b[0m\u001b[0;34m\u001b[0m\u001b[0m\n\u001b[0;32m-> 3214\u001b[0;31m         \u001b[0mret\u001b[0m \u001b[0;34m=\u001b[0m \u001b[0m_wrapper_helper\u001b[0m\u001b[0;34m(\u001b[0m\u001b[0;34m*\u001b[0m\u001b[0margs\u001b[0m\u001b[0;34m)\u001b[0m\u001b[0;34m\u001b[0m\u001b[0;34m\u001b[0m\u001b[0m\n\u001b[0m\u001b[1;32m   3215\u001b[0m         \u001b[0mret\u001b[0m \u001b[0;34m=\u001b[0m \u001b[0mstructure\u001b[0m\u001b[0;34m.\u001b[0m\u001b[0mto_tensor_list\u001b[0m\u001b[0;34m(\u001b[0m\u001b[0mself\u001b[0m\u001b[0;34m.\u001b[0m\u001b[0m_output_structure\u001b[0m\u001b[0;34m,\u001b[0m \u001b[0mret\u001b[0m\u001b[0;34m)\u001b[0m\u001b[0;34m\u001b[0m\u001b[0;34m\u001b[0m\u001b[0m\n\u001b[1;32m   3216\u001b[0m         \u001b[0;32mreturn\u001b[0m \u001b[0;34m[\u001b[0m\u001b[0mops\u001b[0m\u001b[0;34m.\u001b[0m\u001b[0mconvert_to_tensor\u001b[0m\u001b[0;34m(\u001b[0m\u001b[0mt\u001b[0m\u001b[0;34m)\u001b[0m \u001b[0;32mfor\u001b[0m \u001b[0mt\u001b[0m \u001b[0;32min\u001b[0m \u001b[0mret\u001b[0m\u001b[0;34m]\u001b[0m\u001b[0;34m\u001b[0m\u001b[0;34m\u001b[0m\u001b[0m\n",
      "\u001b[0;32m~/anaconda3/lib/python3.8/site-packages/tensorflow/python/data/ops/dataset_ops.py\u001b[0m in \u001b[0;36m_wrapper_helper\u001b[0;34m(*args)\u001b[0m\n\u001b[1;32m   3154\u001b[0m         \u001b[0mnested_args\u001b[0m \u001b[0;34m=\u001b[0m \u001b[0;34m(\u001b[0m\u001b[0mnested_args\u001b[0m\u001b[0;34m,\u001b[0m\u001b[0;34m)\u001b[0m\u001b[0;34m\u001b[0m\u001b[0;34m\u001b[0m\u001b[0m\n\u001b[1;32m   3155\u001b[0m \u001b[0;34m\u001b[0m\u001b[0m\n\u001b[0;32m-> 3156\u001b[0;31m       \u001b[0mret\u001b[0m \u001b[0;34m=\u001b[0m \u001b[0mautograph\u001b[0m\u001b[0;34m.\u001b[0m\u001b[0mtf_convert\u001b[0m\u001b[0;34m(\u001b[0m\u001b[0mfunc\u001b[0m\u001b[0;34m,\u001b[0m \u001b[0mag_ctx\u001b[0m\u001b[0;34m)\u001b[0m\u001b[0;34m(\u001b[0m\u001b[0;34m*\u001b[0m\u001b[0mnested_args\u001b[0m\u001b[0;34m)\u001b[0m\u001b[0;34m\u001b[0m\u001b[0;34m\u001b[0m\u001b[0m\n\u001b[0m\u001b[1;32m   3157\u001b[0m       \u001b[0;31m# If `func` returns a list of tensors, `nest.flatten()` and\u001b[0m\u001b[0;34m\u001b[0m\u001b[0;34m\u001b[0m\u001b[0;34m\u001b[0m\u001b[0m\n\u001b[1;32m   3158\u001b[0m       \u001b[0;31m# `ops.convert_to_tensor()` would conspire to attempt to stack\u001b[0m\u001b[0;34m\u001b[0m\u001b[0;34m\u001b[0m\u001b[0;34m\u001b[0m\u001b[0m\n",
      "\u001b[0;32m~/anaconda3/lib/python3.8/site-packages/tensorflow/python/autograph/impl/api.py\u001b[0m in \u001b[0;36mwrapper\u001b[0;34m(*args, **kwargs)\u001b[0m\n\u001b[1;32m    260\u001b[0m       \u001b[0;32mtry\u001b[0m\u001b[0;34m:\u001b[0m\u001b[0;34m\u001b[0m\u001b[0;34m\u001b[0m\u001b[0m\n\u001b[1;32m    261\u001b[0m         \u001b[0;32mwith\u001b[0m \u001b[0mconversion_ctx\u001b[0m\u001b[0;34m:\u001b[0m\u001b[0;34m\u001b[0m\u001b[0;34m\u001b[0m\u001b[0m\n\u001b[0;32m--> 262\u001b[0;31m           \u001b[0;32mreturn\u001b[0m \u001b[0mconverted_call\u001b[0m\u001b[0;34m(\u001b[0m\u001b[0mf\u001b[0m\u001b[0;34m,\u001b[0m \u001b[0margs\u001b[0m\u001b[0;34m,\u001b[0m \u001b[0mkwargs\u001b[0m\u001b[0;34m,\u001b[0m \u001b[0moptions\u001b[0m\u001b[0;34m=\u001b[0m\u001b[0moptions\u001b[0m\u001b[0;34m)\u001b[0m\u001b[0;34m\u001b[0m\u001b[0;34m\u001b[0m\u001b[0m\n\u001b[0m\u001b[1;32m    263\u001b[0m       \u001b[0;32mexcept\u001b[0m \u001b[0mException\u001b[0m \u001b[0;32mas\u001b[0m \u001b[0me\u001b[0m\u001b[0;34m:\u001b[0m  \u001b[0;31m# pylint:disable=broad-except\u001b[0m\u001b[0;34m\u001b[0m\u001b[0;34m\u001b[0m\u001b[0m\n\u001b[1;32m    264\u001b[0m         \u001b[0;32mif\u001b[0m \u001b[0mhasattr\u001b[0m\u001b[0;34m(\u001b[0m\u001b[0me\u001b[0m\u001b[0;34m,\u001b[0m \u001b[0;34m'ag_error_metadata'\u001b[0m\u001b[0;34m)\u001b[0m\u001b[0;34m:\u001b[0m\u001b[0;34m\u001b[0m\u001b[0;34m\u001b[0m\u001b[0m\n",
      "\u001b[0;32m~/anaconda3/lib/python3.8/site-packages/tensorflow/python/autograph/impl/api.py\u001b[0m in \u001b[0;36mconverted_call\u001b[0;34m(f, args, kwargs, caller_fn_scope, options)\u001b[0m\n\u001b[1;32m    490\u001b[0m \u001b[0;34m\u001b[0m\u001b[0m\n\u001b[1;32m    491\u001b[0m   \u001b[0;32mif\u001b[0m \u001b[0;32mnot\u001b[0m \u001b[0moptions\u001b[0m\u001b[0;34m.\u001b[0m\u001b[0muser_requested\u001b[0m \u001b[0;32mand\u001b[0m \u001b[0mconversion\u001b[0m\u001b[0;34m.\u001b[0m\u001b[0mis_whitelisted\u001b[0m\u001b[0;34m(\u001b[0m\u001b[0mf\u001b[0m\u001b[0;34m)\u001b[0m\u001b[0;34m:\u001b[0m\u001b[0;34m\u001b[0m\u001b[0;34m\u001b[0m\u001b[0m\n\u001b[0;32m--> 492\u001b[0;31m     \u001b[0;32mreturn\u001b[0m \u001b[0m_call_unconverted\u001b[0m\u001b[0;34m(\u001b[0m\u001b[0mf\u001b[0m\u001b[0;34m,\u001b[0m \u001b[0margs\u001b[0m\u001b[0;34m,\u001b[0m \u001b[0mkwargs\u001b[0m\u001b[0;34m,\u001b[0m \u001b[0moptions\u001b[0m\u001b[0;34m)\u001b[0m\u001b[0;34m\u001b[0m\u001b[0;34m\u001b[0m\u001b[0m\n\u001b[0m\u001b[1;32m    493\u001b[0m \u001b[0;34m\u001b[0m\u001b[0m\n\u001b[1;32m    494\u001b[0m   \u001b[0;31m# internal_convert_user_code is for example turned off when issuing a dynamic\u001b[0m\u001b[0;34m\u001b[0m\u001b[0;34m\u001b[0m\u001b[0;34m\u001b[0m\u001b[0m\n",
      "\u001b[0;32m~/anaconda3/lib/python3.8/site-packages/tensorflow/python/autograph/impl/api.py\u001b[0m in \u001b[0;36m_call_unconverted\u001b[0;34m(f, args, kwargs, options, update_cache)\u001b[0m\n\u001b[1;32m    344\u001b[0m \u001b[0;34m\u001b[0m\u001b[0m\n\u001b[1;32m    345\u001b[0m   \u001b[0;32mif\u001b[0m \u001b[0mkwargs\u001b[0m \u001b[0;32mis\u001b[0m \u001b[0;32mnot\u001b[0m \u001b[0;32mNone\u001b[0m\u001b[0;34m:\u001b[0m\u001b[0;34m\u001b[0m\u001b[0;34m\u001b[0m\u001b[0m\n\u001b[0;32m--> 346\u001b[0;31m     \u001b[0;32mreturn\u001b[0m \u001b[0mf\u001b[0m\u001b[0;34m(\u001b[0m\u001b[0;34m*\u001b[0m\u001b[0margs\u001b[0m\u001b[0;34m,\u001b[0m \u001b[0;34m**\u001b[0m\u001b[0mkwargs\u001b[0m\u001b[0;34m)\u001b[0m\u001b[0;34m\u001b[0m\u001b[0;34m\u001b[0m\u001b[0m\n\u001b[0m\u001b[1;32m    347\u001b[0m   \u001b[0;32melse\u001b[0m\u001b[0;34m:\u001b[0m\u001b[0;34m\u001b[0m\u001b[0;34m\u001b[0m\u001b[0m\n\u001b[1;32m    348\u001b[0m     \u001b[0;32mreturn\u001b[0m \u001b[0mf\u001b[0m\u001b[0;34m(\u001b[0m\u001b[0;34m*\u001b[0m\u001b[0margs\u001b[0m\u001b[0;34m)\u001b[0m\u001b[0;34m\u001b[0m\u001b[0;34m\u001b[0m\u001b[0m\n",
      "\u001b[0;32m~/anaconda3/lib/python3.8/site-packages/tensorflow/python/keras/engine/base_layer.py\u001b[0m in \u001b[0;36m__call__\u001b[0;34m(self, *args, **kwargs)\u001b[0m\n\u001b[1;32m    925\u001b[0m                     \u001b[0moutputs\u001b[0m \u001b[0;34m=\u001b[0m \u001b[0mbase_layer_utils\u001b[0m\u001b[0;34m.\u001b[0m\u001b[0mmark_as_return\u001b[0m\u001b[0;34m(\u001b[0m\u001b[0moutputs\u001b[0m\u001b[0;34m,\u001b[0m \u001b[0macd\u001b[0m\u001b[0;34m)\u001b[0m\u001b[0;34m\u001b[0m\u001b[0;34m\u001b[0m\u001b[0m\n\u001b[1;32m    926\u001b[0m                 \u001b[0;32melse\u001b[0m\u001b[0;34m:\u001b[0m\u001b[0;34m\u001b[0m\u001b[0;34m\u001b[0m\u001b[0m\n\u001b[0;32m--> 927\u001b[0;31m                   \u001b[0moutputs\u001b[0m \u001b[0;34m=\u001b[0m \u001b[0mcall_fn\u001b[0m\u001b[0;34m(\u001b[0m\u001b[0mcast_inputs\u001b[0m\u001b[0;34m,\u001b[0m \u001b[0;34m*\u001b[0m\u001b[0margs\u001b[0m\u001b[0;34m,\u001b[0m \u001b[0;34m**\u001b[0m\u001b[0mkwargs\u001b[0m\u001b[0;34m)\u001b[0m\u001b[0;34m\u001b[0m\u001b[0;34m\u001b[0m\u001b[0m\n\u001b[0m\u001b[1;32m    928\u001b[0m \u001b[0;34m\u001b[0m\u001b[0m\n\u001b[1;32m    929\u001b[0m             \u001b[0;32mexcept\u001b[0m \u001b[0merrors\u001b[0m\u001b[0;34m.\u001b[0m\u001b[0mOperatorNotAllowedInGraphError\u001b[0m \u001b[0;32mas\u001b[0m \u001b[0me\u001b[0m\u001b[0;34m:\u001b[0m\u001b[0;34m\u001b[0m\u001b[0;34m\u001b[0m\u001b[0m\n",
      "\u001b[0;32m~/anaconda3/lib/python3.8/site-packages/tensorflow/python/keras/layers/preprocessing/text_vectorization.py\u001b[0m in \u001b[0;36mcall\u001b[0;34m(self, inputs)\u001b[0m\n\u001b[1;32m    594\u001b[0m   \u001b[0;32mdef\u001b[0m \u001b[0mcall\u001b[0m\u001b[0;34m(\u001b[0m\u001b[0mself\u001b[0m\u001b[0;34m,\u001b[0m \u001b[0minputs\u001b[0m\u001b[0;34m)\u001b[0m\u001b[0;34m:\u001b[0m\u001b[0;34m\u001b[0m\u001b[0;34m\u001b[0m\u001b[0m\n\u001b[1;32m    595\u001b[0m     \u001b[0mself\u001b[0m\u001b[0;34m.\u001b[0m\u001b[0m_called\u001b[0m \u001b[0;34m=\u001b[0m \u001b[0;32mTrue\u001b[0m\u001b[0;34m\u001b[0m\u001b[0;34m\u001b[0m\u001b[0m\n\u001b[0;32m--> 596\u001b[0;31m     \u001b[0minputs\u001b[0m \u001b[0;34m=\u001b[0m \u001b[0mself\u001b[0m\u001b[0;34m.\u001b[0m\u001b[0m_preprocess\u001b[0m\u001b[0;34m(\u001b[0m\u001b[0minputs\u001b[0m\u001b[0;34m)\u001b[0m\u001b[0;34m\u001b[0m\u001b[0;34m\u001b[0m\u001b[0m\n\u001b[0m\u001b[1;32m    597\u001b[0m \u001b[0;34m\u001b[0m\u001b[0m\n\u001b[1;32m    598\u001b[0m     \u001b[0;31m# If we're not doing any output processing, return right away.\u001b[0m\u001b[0;34m\u001b[0m\u001b[0;34m\u001b[0m\u001b[0;34m\u001b[0m\u001b[0m\n",
      "\u001b[0;32m~/anaconda3/lib/python3.8/site-packages/tensorflow/python/keras/layers/preprocessing/text_vectorization.py\u001b[0m in \u001b[0;36m_preprocess\u001b[0;34m(self, inputs)\u001b[0m\n\u001b[1;32m    570\u001b[0m       \u001b[0;31m# so can be squeezed out. We do this here instead of after splitting for\u001b[0m\u001b[0;34m\u001b[0m\u001b[0;34m\u001b[0m\u001b[0;34m\u001b[0m\u001b[0m\n\u001b[1;32m    571\u001b[0m       \u001b[0;31m# performance reasons - it's more expensive to squeeze a ragged tensor.\u001b[0m\u001b[0;34m\u001b[0m\u001b[0;34m\u001b[0m\u001b[0;34m\u001b[0m\u001b[0m\n\u001b[0;32m--> 572\u001b[0;31m       \u001b[0minputs\u001b[0m \u001b[0;34m=\u001b[0m \u001b[0marray_ops\u001b[0m\u001b[0;34m.\u001b[0m\u001b[0msqueeze\u001b[0m\u001b[0;34m(\u001b[0m\u001b[0minputs\u001b[0m\u001b[0;34m,\u001b[0m \u001b[0maxis\u001b[0m\u001b[0;34m=\u001b[0m\u001b[0;36m1\u001b[0m\u001b[0;34m)\u001b[0m\u001b[0;34m\u001b[0m\u001b[0;34m\u001b[0m\u001b[0m\n\u001b[0m\u001b[1;32m    573\u001b[0m       \u001b[0;32mif\u001b[0m \u001b[0mself\u001b[0m\u001b[0;34m.\u001b[0m\u001b[0m_split\u001b[0m \u001b[0;34m==\u001b[0m \u001b[0mSPLIT_ON_WHITESPACE\u001b[0m\u001b[0;34m:\u001b[0m\u001b[0;34m\u001b[0m\u001b[0;34m\u001b[0m\u001b[0m\n\u001b[1;32m    574\u001b[0m         \u001b[0;31m# This treats multiple whitespaces as one whitespace, and strips leading\u001b[0m\u001b[0;34m\u001b[0m\u001b[0;34m\u001b[0m\u001b[0;34m\u001b[0m\u001b[0m\n",
      "\u001b[0;32m~/anaconda3/lib/python3.8/site-packages/tensorflow/python/util/dispatch.py\u001b[0m in \u001b[0;36mwrapper\u001b[0;34m(*args, **kwargs)\u001b[0m\n\u001b[1;32m    178\u001b[0m     \u001b[0;34m\"\"\"Call target, and fall back on dispatchers if there is a TypeError.\"\"\"\u001b[0m\u001b[0;34m\u001b[0m\u001b[0;34m\u001b[0m\u001b[0m\n\u001b[1;32m    179\u001b[0m     \u001b[0;32mtry\u001b[0m\u001b[0;34m:\u001b[0m\u001b[0;34m\u001b[0m\u001b[0;34m\u001b[0m\u001b[0m\n\u001b[0;32m--> 180\u001b[0;31m       \u001b[0;32mreturn\u001b[0m \u001b[0mtarget\u001b[0m\u001b[0;34m(\u001b[0m\u001b[0;34m*\u001b[0m\u001b[0margs\u001b[0m\u001b[0;34m,\u001b[0m \u001b[0;34m**\u001b[0m\u001b[0mkwargs\u001b[0m\u001b[0;34m)\u001b[0m\u001b[0;34m\u001b[0m\u001b[0;34m\u001b[0m\u001b[0m\n\u001b[0m\u001b[1;32m    181\u001b[0m     \u001b[0;32mexcept\u001b[0m \u001b[0;34m(\u001b[0m\u001b[0mTypeError\u001b[0m\u001b[0;34m,\u001b[0m \u001b[0mValueError\u001b[0m\u001b[0;34m)\u001b[0m\u001b[0;34m:\u001b[0m\u001b[0;34m\u001b[0m\u001b[0;34m\u001b[0m\u001b[0m\n\u001b[1;32m    182\u001b[0m       \u001b[0;31m# Note: convert_to_eager_tensor currently raises a ValueError, not a\u001b[0m\u001b[0;34m\u001b[0m\u001b[0;34m\u001b[0m\u001b[0;34m\u001b[0m\u001b[0m\n",
      "\u001b[0;32m~/anaconda3/lib/python3.8/site-packages/tensorflow/python/util/deprecation.py\u001b[0m in \u001b[0;36mnew_func\u001b[0;34m(*args, **kwargs)\u001b[0m\n\u001b[1;32m    505\u001b[0m                 \u001b[0;34m'in a future version'\u001b[0m \u001b[0;32mif\u001b[0m \u001b[0mdate\u001b[0m \u001b[0;32mis\u001b[0m \u001b[0;32mNone\u001b[0m \u001b[0;32melse\u001b[0m \u001b[0;34m(\u001b[0m\u001b[0;34m'after %s'\u001b[0m \u001b[0;34m%\u001b[0m \u001b[0mdate\u001b[0m\u001b[0;34m)\u001b[0m\u001b[0;34m,\u001b[0m\u001b[0;34m\u001b[0m\u001b[0;34m\u001b[0m\u001b[0m\n\u001b[1;32m    506\u001b[0m                 instructions)\n\u001b[0;32m--> 507\u001b[0;31m       \u001b[0;32mreturn\u001b[0m \u001b[0mfunc\u001b[0m\u001b[0;34m(\u001b[0m\u001b[0;34m*\u001b[0m\u001b[0margs\u001b[0m\u001b[0;34m,\u001b[0m \u001b[0;34m**\u001b[0m\u001b[0mkwargs\u001b[0m\u001b[0;34m)\u001b[0m\u001b[0;34m\u001b[0m\u001b[0;34m\u001b[0m\u001b[0m\n\u001b[0m\u001b[1;32m    508\u001b[0m \u001b[0;34m\u001b[0m\u001b[0m\n\u001b[1;32m    509\u001b[0m     doc = _add_deprecated_arg_notice_to_docstring(\n",
      "\u001b[0;32m~/anaconda3/lib/python3.8/site-packages/tensorflow/python/ops/array_ops.py\u001b[0m in \u001b[0;36msqueeze\u001b[0;34m(input, axis, name, squeeze_dims)\u001b[0m\n\u001b[1;32m   4143\u001b[0m   \u001b[0;32mif\u001b[0m \u001b[0mnp\u001b[0m\u001b[0;34m.\u001b[0m\u001b[0misscalar\u001b[0m\u001b[0;34m(\u001b[0m\u001b[0maxis\u001b[0m\u001b[0;34m)\u001b[0m\u001b[0;34m:\u001b[0m\u001b[0;34m\u001b[0m\u001b[0;34m\u001b[0m\u001b[0m\n\u001b[1;32m   4144\u001b[0m     \u001b[0maxis\u001b[0m \u001b[0;34m=\u001b[0m \u001b[0;34m[\u001b[0m\u001b[0maxis\u001b[0m\u001b[0;34m]\u001b[0m\u001b[0;34m\u001b[0m\u001b[0;34m\u001b[0m\u001b[0m\n\u001b[0;32m-> 4145\u001b[0;31m   \u001b[0;32mreturn\u001b[0m \u001b[0mgen_array_ops\u001b[0m\u001b[0;34m.\u001b[0m\u001b[0msqueeze\u001b[0m\u001b[0;34m(\u001b[0m\u001b[0minput\u001b[0m\u001b[0;34m,\u001b[0m \u001b[0maxis\u001b[0m\u001b[0;34m,\u001b[0m \u001b[0mname\u001b[0m\u001b[0;34m)\u001b[0m\u001b[0;34m\u001b[0m\u001b[0;34m\u001b[0m\u001b[0m\n\u001b[0m\u001b[1;32m   4146\u001b[0m \u001b[0;34m\u001b[0m\u001b[0m\n\u001b[1;32m   4147\u001b[0m \u001b[0;34m\u001b[0m\u001b[0m\n",
      "\u001b[0;32m~/anaconda3/lib/python3.8/site-packages/tensorflow/python/ops/gen_array_ops.py\u001b[0m in \u001b[0;36msqueeze\u001b[0;34m(input, axis, name)\u001b[0m\n\u001b[1;32m   9872\u001b[0m         \"'squeeze' Op, not %r.\" % axis)\n\u001b[1;32m   9873\u001b[0m   \u001b[0maxis\u001b[0m \u001b[0;34m=\u001b[0m \u001b[0;34m[\u001b[0m\u001b[0m_execute\u001b[0m\u001b[0;34m.\u001b[0m\u001b[0mmake_int\u001b[0m\u001b[0;34m(\u001b[0m\u001b[0m_i\u001b[0m\u001b[0;34m,\u001b[0m \u001b[0;34m\"axis\"\u001b[0m\u001b[0;34m)\u001b[0m \u001b[0;32mfor\u001b[0m \u001b[0m_i\u001b[0m \u001b[0;32min\u001b[0m \u001b[0maxis\u001b[0m\u001b[0;34m]\u001b[0m\u001b[0;34m\u001b[0m\u001b[0;34m\u001b[0m\u001b[0m\n\u001b[0;32m-> 9874\u001b[0;31m   _, _, _op, _outputs = _op_def_library._apply_op_helper(\n\u001b[0m\u001b[1;32m   9875\u001b[0m         \"Squeeze\", input=input, squeeze_dims=axis, name=name)\n\u001b[1;32m   9876\u001b[0m   \u001b[0m_result\u001b[0m \u001b[0;34m=\u001b[0m \u001b[0m_outputs\u001b[0m\u001b[0;34m[\u001b[0m\u001b[0;34m:\u001b[0m\u001b[0;34m]\u001b[0m\u001b[0;34m\u001b[0m\u001b[0;34m\u001b[0m\u001b[0m\n",
      "\u001b[0;32m~/anaconda3/lib/python3.8/site-packages/tensorflow/python/framework/op_def_library.py\u001b[0m in \u001b[0;36m_apply_op_helper\u001b[0;34m(op_type_name, name, **keywords)\u001b[0m\n\u001b[1;32m    740\u001b[0m       \u001b[0;31m# Add Op to graph\u001b[0m\u001b[0;34m\u001b[0m\u001b[0;34m\u001b[0m\u001b[0;34m\u001b[0m\u001b[0m\n\u001b[1;32m    741\u001b[0m       \u001b[0;31m# pylint: disable=protected-access\u001b[0m\u001b[0;34m\u001b[0m\u001b[0;34m\u001b[0m\u001b[0;34m\u001b[0m\u001b[0m\n\u001b[0;32m--> 742\u001b[0;31m       op = g._create_op_internal(op_type_name, inputs, dtypes=None,\n\u001b[0m\u001b[1;32m    743\u001b[0m                                  \u001b[0mname\u001b[0m\u001b[0;34m=\u001b[0m\u001b[0mscope\u001b[0m\u001b[0;34m,\u001b[0m \u001b[0minput_types\u001b[0m\u001b[0;34m=\u001b[0m\u001b[0minput_types\u001b[0m\u001b[0;34m,\u001b[0m\u001b[0;34m\u001b[0m\u001b[0;34m\u001b[0m\u001b[0m\n\u001b[1;32m    744\u001b[0m                                  attrs=attr_protos, op_def=op_def)\n",
      "\u001b[0;32m~/anaconda3/lib/python3.8/site-packages/tensorflow/python/framework/func_graph.py\u001b[0m in \u001b[0;36m_create_op_internal\u001b[0;34m(self, op_type, inputs, dtypes, input_types, name, attrs, op_def, compute_device)\u001b[0m\n\u001b[1;32m    591\u001b[0m       \u001b[0minp\u001b[0m \u001b[0;34m=\u001b[0m \u001b[0mself\u001b[0m\u001b[0;34m.\u001b[0m\u001b[0mcapture\u001b[0m\u001b[0;34m(\u001b[0m\u001b[0minp\u001b[0m\u001b[0;34m)\u001b[0m\u001b[0;34m\u001b[0m\u001b[0;34m\u001b[0m\u001b[0m\n\u001b[1;32m    592\u001b[0m       \u001b[0minputs\u001b[0m\u001b[0;34m[\u001b[0m\u001b[0mi\u001b[0m\u001b[0;34m]\u001b[0m \u001b[0;34m=\u001b[0m \u001b[0minp\u001b[0m\u001b[0;34m\u001b[0m\u001b[0;34m\u001b[0m\u001b[0m\n\u001b[0;32m--> 593\u001b[0;31m     return super(FuncGraph, self)._create_op_internal(  # pylint: disable=protected-access\n\u001b[0m\u001b[1;32m    594\u001b[0m         \u001b[0mop_type\u001b[0m\u001b[0;34m,\u001b[0m \u001b[0minputs\u001b[0m\u001b[0;34m,\u001b[0m \u001b[0mdtypes\u001b[0m\u001b[0;34m,\u001b[0m \u001b[0minput_types\u001b[0m\u001b[0;34m,\u001b[0m \u001b[0mname\u001b[0m\u001b[0;34m,\u001b[0m \u001b[0mattrs\u001b[0m\u001b[0;34m,\u001b[0m \u001b[0mop_def\u001b[0m\u001b[0;34m,\u001b[0m\u001b[0;34m\u001b[0m\u001b[0;34m\u001b[0m\u001b[0m\n\u001b[1;32m    595\u001b[0m         compute_device)\n",
      "\u001b[0;32m~/anaconda3/lib/python3.8/site-packages/tensorflow/python/framework/ops.py\u001b[0m in \u001b[0;36m_create_op_internal\u001b[0;34m(self, op_type, inputs, dtypes, input_types, name, attrs, op_def, compute_device)\u001b[0m\n\u001b[1;32m   3317\u001b[0m     \u001b[0;31m# Session.run call cannot occur between creating and mutating the op.\u001b[0m\u001b[0;34m\u001b[0m\u001b[0;34m\u001b[0m\u001b[0;34m\u001b[0m\u001b[0m\n\u001b[1;32m   3318\u001b[0m     \u001b[0;32mwith\u001b[0m \u001b[0mself\u001b[0m\u001b[0;34m.\u001b[0m\u001b[0m_mutation_lock\u001b[0m\u001b[0;34m(\u001b[0m\u001b[0;34m)\u001b[0m\u001b[0;34m:\u001b[0m\u001b[0;34m\u001b[0m\u001b[0;34m\u001b[0m\u001b[0m\n\u001b[0;32m-> 3319\u001b[0;31m       ret = Operation(\n\u001b[0m\u001b[1;32m   3320\u001b[0m           \u001b[0mnode_def\u001b[0m\u001b[0;34m,\u001b[0m\u001b[0;34m\u001b[0m\u001b[0;34m\u001b[0m\u001b[0m\n\u001b[1;32m   3321\u001b[0m           \u001b[0mself\u001b[0m\u001b[0;34m,\u001b[0m\u001b[0;34m\u001b[0m\u001b[0;34m\u001b[0m\u001b[0m\n",
      "\u001b[0;32m~/anaconda3/lib/python3.8/site-packages/tensorflow/python/framework/ops.py\u001b[0m in \u001b[0;36m__init__\u001b[0;34m(self, node_def, g, inputs, output_types, control_inputs, input_types, original_op, op_def)\u001b[0m\n\u001b[1;32m   1814\u001b[0m       \u001b[0;32mif\u001b[0m \u001b[0mop_def\u001b[0m \u001b[0;32mis\u001b[0m \u001b[0;32mNone\u001b[0m\u001b[0;34m:\u001b[0m\u001b[0;34m\u001b[0m\u001b[0;34m\u001b[0m\u001b[0m\n\u001b[1;32m   1815\u001b[0m         \u001b[0mop_def\u001b[0m \u001b[0;34m=\u001b[0m \u001b[0mself\u001b[0m\u001b[0;34m.\u001b[0m\u001b[0m_graph\u001b[0m\u001b[0;34m.\u001b[0m\u001b[0m_get_op_def\u001b[0m\u001b[0;34m(\u001b[0m\u001b[0mnode_def\u001b[0m\u001b[0;34m.\u001b[0m\u001b[0mop\u001b[0m\u001b[0;34m)\u001b[0m\u001b[0;34m\u001b[0m\u001b[0;34m\u001b[0m\u001b[0m\n\u001b[0;32m-> 1816\u001b[0;31m       self._c_op = _create_c_op(self._graph, node_def, inputs,\n\u001b[0m\u001b[1;32m   1817\u001b[0m                                 control_input_ops, op_def)\n\u001b[1;32m   1818\u001b[0m       \u001b[0mname\u001b[0m \u001b[0;34m=\u001b[0m \u001b[0mcompat\u001b[0m\u001b[0;34m.\u001b[0m\u001b[0mas_str\u001b[0m\u001b[0;34m(\u001b[0m\u001b[0mnode_def\u001b[0m\u001b[0;34m.\u001b[0m\u001b[0mname\u001b[0m\u001b[0;34m)\u001b[0m\u001b[0;34m\u001b[0m\u001b[0;34m\u001b[0m\u001b[0m\n",
      "\u001b[0;32m~/anaconda3/lib/python3.8/site-packages/tensorflow/python/framework/ops.py\u001b[0m in \u001b[0;36m_create_c_op\u001b[0;34m(graph, node_def, inputs, control_inputs, op_def)\u001b[0m\n\u001b[1;32m   1655\u001b[0m   \u001b[0;32mexcept\u001b[0m \u001b[0merrors\u001b[0m\u001b[0;34m.\u001b[0m\u001b[0mInvalidArgumentError\u001b[0m \u001b[0;32mas\u001b[0m \u001b[0me\u001b[0m\u001b[0;34m:\u001b[0m\u001b[0;34m\u001b[0m\u001b[0;34m\u001b[0m\u001b[0m\n\u001b[1;32m   1656\u001b[0m     \u001b[0;31m# Convert to ValueError for backwards compatibility.\u001b[0m\u001b[0;34m\u001b[0m\u001b[0;34m\u001b[0m\u001b[0;34m\u001b[0m\u001b[0m\n\u001b[0;32m-> 1657\u001b[0;31m     \u001b[0;32mraise\u001b[0m \u001b[0mValueError\u001b[0m\u001b[0;34m(\u001b[0m\u001b[0mstr\u001b[0m\u001b[0;34m(\u001b[0m\u001b[0me\u001b[0m\u001b[0;34m)\u001b[0m\u001b[0;34m)\u001b[0m\u001b[0;34m\u001b[0m\u001b[0;34m\u001b[0m\u001b[0m\n\u001b[0m\u001b[1;32m   1658\u001b[0m \u001b[0;34m\u001b[0m\u001b[0m\n\u001b[1;32m   1659\u001b[0m   \u001b[0;32mreturn\u001b[0m \u001b[0mc_op\u001b[0m\u001b[0;34m\u001b[0m\u001b[0;34m\u001b[0m\u001b[0m\n",
      "\u001b[0;31mValueError\u001b[0m: squeeze_dims[0] not in [-1,1). for '{{node text_vectorization_2/Squeeze}} = Squeeze[T=DT_STRING, squeeze_dims=[1]](text_vectorization_2/StaticRegexReplace)' with input shapes: [?]."
     ]
    }
   ],
   "source": [
    "# Vectorize sentences from the corpus\n",
    "# You can use the TextVectorization layer to vectorize sentences from the corpus.\n",
    "\n",
    "# We create a custom standardization function to lowecase the text \n",
    "# and remove punctuation.\n",
    "def custom_standardization(input_data):\n",
    "  lowercase = tf.strings.lower(input_data)\n",
    "  return tf.strings.regex_replace(lowercase,\n",
    "                                  '[%s]' % re.escape(string.punctuation), '')\n",
    "  \n",
    "# Define the vocabulary size and number of words in a sequence\n",
    "vocab_size = 4096\n",
    "sequence_length = 10\n",
    "\n",
    "# Use the text vectorization layer to normalize, split & map strings to\n",
    "# integers. Set outpiut_sequence_lenth to pad all samples to the same length.\n",
    "vectorize_layer = TextVectorization(\n",
    "    standardize=custom_standardization,\n",
    "    max_tokens=vocab_size,\n",
    "    output_mode='int',\n",
    "    output_sequence_length=sequence_length)\n",
    "\n",
    "# Call adapt on the text dataset to create vocabulary.\n",
    "vectorize_layer.adapt(text_ds.batch(1024))\n",
    "\n",
    "# Once the state of the layer has been adapted to represent the text corpus, the \n",
    "# vocabulary can be accessed with get_vocablary()\n",
    "# This function returns a list of all vocabulary tokens sorted (descenting) \n",
    "# by their frequency\n",
    "\n",
    "# Save the created vocabulary for reference.\n",
    "inverse_vocab = vectorize_layer.get_vocabulary()\n",
    "print(inverse_vocab[:20])\n",
    "\n",
    "# --- o ---\n",
    "# The vecorize_layer can now be used to generate vectors for each element in the text_ds\n",
    "def vectorize_text(text):\n",
    "  text = tf.expand_dims(text, -1)\n",
    "  return tf.squeeze(vectorize_layer(text))\n",
    "\n",
    "# Vectorize the data in text_ds\n",
    "text_vector_ds = text_ds.batch(1024).prefetch(AUTOTUNE).map(vectorize_layer).unbatch()\n",
    "\n",
    "# Obtain sequnences from the dataset\n",
    "# Now we need to flatten it.\n",
    "sequences = list(text_vector_ds.as_numpy_iterator())\n",
    "print(len(sequences))\n",
    "\n",
    "# --- o ---\n",
    "# Generate training examples from sequences\n",
    "targets, contexts, labels = generate_training_data(\n",
    "    sequences=sequences, \n",
    "    window_size=2, \n",
    "    num_ns=4, \n",
    "    vocab_size=vocab_size, \n",
    "    seed=SEED)\n",
    "print(len(targets), len(contexts), len(labels))"
   ]
  },
  {
   "cell_type": "code",
   "execution_count": null,
   "metadata": {
    "colab": {
     "base_uri": "https://localhost:8080/"
    },
    "id": "Wemi-K3qcz5v",
    "outputId": "61f3670f-6a58-4829-a2f7-a06012f08c8b"
   },
   "outputs": [
    {
     "name": "stdout",
     "output_type": "stream",
     "text": [
      "<BatchDataset shapes: (((1024,), (1024, 5, 1)), (1024, 5)), types: ((tf.int32, tf.int64), tf.int64)>\n",
      "<PrefetchDataset shapes: (((1024,), (1024, 5, 1)), (1024, 5)), types: ((tf.int32, tf.int64), tf.int64)>\n",
      "Epoch 1/20\n",
      "  2/330 [..............................] - ETA: 13s - loss: 1.6093 - accuracy: 0.2041WARNING:tensorflow:Callbacks method `on_train_batch_end` is slow compared to the batch time (batch time: 0.0237s vs `on_train_batch_end` time: 0.0561s). Check your callbacks.\n",
      "330/330 [==============================] - 6s 18ms/step - loss: 1.4510 - accuracy: 0.4473\n",
      "Epoch 2/20\n",
      "330/330 [==============================] - 5s 16ms/step - loss: 1.2660 - accuracy: 0.5158\n",
      "Epoch 3/20\n",
      "330/330 [==============================] - 5s 15ms/step - loss: 1.1880 - accuracy: 0.5553\n",
      "Epoch 4/20\n",
      "330/330 [==============================] - 5s 16ms/step - loss: 1.1199 - accuracy: 0.5881\n",
      "Epoch 5/20\n",
      "330/330 [==============================] - 5s 16ms/step - loss: 1.0574 - accuracy: 0.6155\n",
      "Epoch 6/20\n",
      "330/330 [==============================] - 5s 16ms/step - loss: 0.9994 - accuracy: 0.6387\n",
      "Epoch 7/20\n",
      "330/330 [==============================] - 5s 16ms/step - loss: 0.9457 - accuracy: 0.6603\n",
      "Epoch 8/20\n",
      "330/330 [==============================] - 5s 15ms/step - loss: 0.8958 - accuracy: 0.6796\n",
      "Epoch 9/20\n",
      "330/330 [==============================] - 5s 16ms/step - loss: 0.8496 - accuracy: 0.6965\n",
      "Epoch 10/20\n",
      "330/330 [==============================] - 5s 16ms/step - loss: 0.8067 - accuracy: 0.7125\n",
      "Epoch 11/20\n",
      "330/330 [==============================] - 5s 16ms/step - loss: 0.7671 - accuracy: 0.7276\n",
      "Epoch 12/20\n",
      "330/330 [==============================] - 5s 16ms/step - loss: 0.7305 - accuracy: 0.7413\n",
      "Epoch 13/20\n",
      "330/330 [==============================] - 6s 17ms/step - loss: 0.6966 - accuracy: 0.7544\n",
      "Epoch 14/20\n",
      "330/330 [==============================] - 6s 19ms/step - loss: 0.6654 - accuracy: 0.7664\n",
      "Epoch 15/20\n",
      "330/330 [==============================] - 5s 16ms/step - loss: 0.6366 - accuracy: 0.7776\n",
      "Epoch 16/20\n",
      "330/330 [==============================] - 5s 16ms/step - loss: 0.6101 - accuracy: 0.7882\n",
      "Epoch 17/20\n",
      "330/330 [==============================] - 5s 16ms/step - loss: 0.5858 - accuracy: 0.7976\n",
      "Epoch 18/20\n",
      "330/330 [==============================] - 5s 16ms/step - loss: 0.5634 - accuracy: 0.8064\n",
      "Epoch 19/20\n",
      "330/330 [==============================] - 5s 16ms/step - loss: 0.5429 - accuracy: 0.8145\n",
      "Epoch 20/20\n",
      "330/330 [==============================] - 5s 16ms/step - loss: 0.5240 - accuracy: 0.8217\n"
     ]
    },
    {
     "data": {
      "text/plain": [
       "<tensorflow.python.keras.callbacks.History at 0x7fcba631a438>"
      ]
     },
     "execution_count": 67,
     "metadata": {
      "tags": []
     },
     "output_type": "execute_result"
    }
   ],
   "source": [
    "# Configure the dataset for performance\n",
    "BATCH_SIZE = 1024\n",
    "BUFFER_SIZE = 10000\n",
    "dataset = tf.data.Dataset.from_tensor_slices(((targets, contexts), labels))\n",
    "dataset = dataset.shuffle(BUFFER_SIZE).batch(BATCH_SIZE, drop_remainder=True)\n",
    "print(dataset)\n",
    "# Add cache() and prefetch() to improve performance.\n",
    "dataset = dataset.cache().prefetch(buffer_size=AUTOTUNE)\n",
    "print(dataset)\n",
    "\n",
    "# Model and Training\n",
    "class Word2Vec(Model):\n",
    "  def __init__(self, vocab_size, embedding_dim):\n",
    "    super(Word2Vec, self).__init__()\n",
    "    self.target_embedding = Embedding(vocab_size, \n",
    "                                      embedding_dim,\n",
    "                                      input_length=1,\n",
    "                                      name=\"w2v_embedding\", )\n",
    "    self.context_embedding = Embedding(vocab_size, \n",
    "                                       embedding_dim, \n",
    "                                       input_length=num_ns+1)\n",
    "    self.dots = Dot(axes=(3,2))\n",
    "    self.flatten = Flatten()\n",
    "\n",
    "  def call(self, pair):\n",
    "    target, context = pair\n",
    "    we = self.target_embedding(target)\n",
    "    ce = self.context_embedding(context)\n",
    "    dots = self.dots([ce, we])\n",
    "    return self.flatten(dots)\n",
    "\n",
    "# Define loss function and compile model\n",
    "def custom_loss(x_logit, y_true):\n",
    "      return tf.nn.sigmoid_cross_entropy_with_logits(logits=x_logit, labels=y_true)\n",
    "\n",
    "embedding_dim = 128\n",
    "word2vec = Word2Vec(vocab_size, embedding_dim)\n",
    "word2vec.compile(optimizer='adam',\n",
    "              loss=tf.keras.losses.CategoricalCrossentropy(from_logits=True),\n",
    "              metrics=['accuracy'])\n",
    "\n",
    "# Also define a callback to log training statistics for tensorboard.\n",
    "tensorboard_callback = tf.keras.callbacks.TensorBoard(log_dir=\"logs\")\n",
    "# Train the model with dataset prepared above for some number of epochs.\n",
    "word2vec.fit(dataset, epochs=20, callbacks=[tensorboard_callback])"
   ]
  },
  {
   "cell_type": "code",
   "execution_count": null,
   "metadata": {
    "colab": {
     "base_uri": "https://localhost:8080/",
     "height": 56
    },
    "id": "i8Z-wpJadS16",
    "outputId": "0be8b619-5d71-46ec-9f29-363f93ab9ecc"
   },
   "outputs": [
    {
     "data": {
      "application/javascript": [
       "\n",
       "    async function download(id, filename, size) {\n",
       "      if (!google.colab.kernel.accessAllowed) {\n",
       "        return;\n",
       "      }\n",
       "      const div = document.createElement('div');\n",
       "      const label = document.createElement('label');\n",
       "      label.textContent = `Downloading \"${filename}\": `;\n",
       "      div.appendChild(label);\n",
       "      const progress = document.createElement('progress');\n",
       "      progress.max = size;\n",
       "      div.appendChild(progress);\n",
       "      document.body.appendChild(div);\n",
       "\n",
       "      const buffers = [];\n",
       "      let downloaded = 0;\n",
       "\n",
       "      const channel = await google.colab.kernel.comms.open(id);\n",
       "      // Send a message to notify the kernel that we're ready.\n",
       "      channel.send({})\n",
       "\n",
       "      for await (const message of channel.messages) {\n",
       "        // Send a message to notify the kernel that we're ready.\n",
       "        channel.send({})\n",
       "        if (message.buffers) {\n",
       "          for (const buffer of message.buffers) {\n",
       "            buffers.push(buffer);\n",
       "            downloaded += buffer.byteLength;\n",
       "            progress.value = downloaded;\n",
       "          }\n",
       "        }\n",
       "      }\n",
       "      const blob = new Blob(buffers, {type: 'application/binary'});\n",
       "      const a = document.createElement('a');\n",
       "      a.href = window.URL.createObjectURL(blob);\n",
       "      a.download = filename;\n",
       "      div.appendChild(a);\n",
       "      a.click();\n",
       "      div.remove();\n",
       "    }\n",
       "  "
      ],
      "text/plain": [
       "<IPython.core.display.Javascript object>"
      ]
     },
     "metadata": {
      "tags": []
     },
     "output_type": "display_data"
    },
    {
     "data": {
      "application/javascript": [
       "download(\"download_a9e7191c-5300-4460-9a93-bcad4e3fd09c\", \"vectors.tsv\", 6049193)"
      ],
      "text/plain": [
       "<IPython.core.display.Javascript object>"
      ]
     },
     "metadata": {
      "tags": []
     },
     "output_type": "display_data"
    },
    {
     "data": {
      "application/javascript": [
       "\n",
       "    async function download(id, filename, size) {\n",
       "      if (!google.colab.kernel.accessAllowed) {\n",
       "        return;\n",
       "      }\n",
       "      const div = document.createElement('div');\n",
       "      const label = document.createElement('label');\n",
       "      label.textContent = `Downloading \"${filename}\": `;\n",
       "      div.appendChild(label);\n",
       "      const progress = document.createElement('progress');\n",
       "      progress.max = size;\n",
       "      div.appendChild(progress);\n",
       "      document.body.appendChild(div);\n",
       "\n",
       "      const buffers = [];\n",
       "      let downloaded = 0;\n",
       "\n",
       "      const channel = await google.colab.kernel.comms.open(id);\n",
       "      // Send a message to notify the kernel that we're ready.\n",
       "      channel.send({})\n",
       "\n",
       "      for await (const message of channel.messages) {\n",
       "        // Send a message to notify the kernel that we're ready.\n",
       "        channel.send({})\n",
       "        if (message.buffers) {\n",
       "          for (const buffer of message.buffers) {\n",
       "            buffers.push(buffer);\n",
       "            downloaded += buffer.byteLength;\n",
       "            progress.value = downloaded;\n",
       "          }\n",
       "        }\n",
       "      }\n",
       "      const blob = new Blob(buffers, {type: 'application/binary'});\n",
       "      const a = document.createElement('a');\n",
       "      a.href = window.URL.createObjectURL(blob);\n",
       "      a.download = filename;\n",
       "      div.appendChild(a);\n",
       "      a.click();\n",
       "      div.remove();\n",
       "    }\n",
       "  "
      ],
      "text/plain": [
       "<IPython.core.display.Javascript object>"
      ]
     },
     "metadata": {
      "tags": []
     },
     "output_type": "display_data"
    },
    {
     "data": {
      "application/javascript": [
       "download(\"download_0f4dc2e5-81b8-4ddf-94a0-f6b83571701b\", \"metadata.tsv\", 33182)"
      ],
      "text/plain": [
       "<IPython.core.display.Javascript object>"
      ]
     },
     "metadata": {
      "tags": []
     },
     "output_type": "display_data"
    }
   ],
   "source": [
    "# Embedding lookup and analysis\n",
    "weights = word2vec.get_layer('w2v_embedding').get_weights()[0]\n",
    "vocab = vectorize_layer.get_vocabulary()\n",
    "\n",
    "out_v = io.open('vectors.tsv', 'w', encoding='utf-8')\n",
    "out_m = io.open('metadata.tsv', 'w', encoding='utf-8')\n",
    "\n",
    "# Create and save the vectors and metadata file.\n",
    "for index, word in enumerate(vocab):\n",
    "  if  index == 0: continue # skip 0, it's padding.\n",
    "  vec = weights[index] \n",
    "  out_v.write('\\t'.join([str(x) for x in vec]) + \"\\n\")\n",
    "  out_m.write(word + \"\\n\")\n",
    "out_v.close()\n",
    "out_m.close()\n",
    "\n",
    "# Download the vectors.tsv and metadata.tsv to analyze the obtained embeddings in the Embedding Projector.\n",
    "try:\n",
    "  from google.colab import files\n",
    "  files.download('vectors.tsv')\n",
    "  files.download('metadata.tsv')\n",
    "except Exception as e:\n",
    "  pass"
   ]
  },
  {
   "cell_type": "code",
   "execution_count": null,
   "metadata": {
    "colab": {
     "base_uri": "https://localhost:8080/"
    },
    "id": "Sejt8O8yjV3z",
    "outputId": "43d95ee5-9dc2-46fd-f1cc-4ea2c44f5d79"
   },
   "outputs": [
    {
     "data": {
      "text/plain": [
       "array([ 0.04762546,  0.02011238,  0.02815828, -0.04852387,  0.00432272,\n",
       "       -0.02825428, -0.0014872 , -0.02207441, -0.03418   , -0.04887638,\n",
       "       -0.02167218, -0.02480197,  0.0419832 ,  0.04326438,  0.0027748 ,\n",
       "       -0.03741382,  0.02240142, -0.03169741, -0.00947913,  0.03834539,\n",
       "        0.00397854,  0.03003868,  0.02721453, -0.04723739, -0.00356771,\n",
       "        0.02726867,  0.04931836, -0.03577427,  0.04512313,  0.01522808,\n",
       "        0.02366824, -0.02539728,  0.02990038,  0.02179197,  0.02893661,\n",
       "        0.00411521,  0.02387763,  0.03252021,  0.04214882, -0.01093918,\n",
       "       -0.0172248 ,  0.03461209,  0.00554373, -0.00389471, -0.02142658,\n",
       "       -0.0229839 , -0.02939994, -0.03388133,  0.04598255, -0.00992125,\n",
       "        0.01277209, -0.0143834 ,  0.03371486,  0.04442886, -0.0233948 ,\n",
       "        0.00483395, -0.03278337, -0.04057705,  0.03384698,  0.04406748,\n",
       "        0.03280263,  0.03207003,  0.02374122,  0.04589525,  0.03264605,\n",
       "       -0.00227235, -0.04807429, -0.0184878 , -0.04509405, -0.00309237,\n",
       "       -0.03698188, -0.00552907,  0.0420952 ,  0.00676862, -0.01215407,\n",
       "        0.03425831,  0.03210584,  0.02537758, -0.02711762, -0.04621891,\n",
       "       -0.04624991, -0.0471108 , -0.0185018 , -0.04664154, -0.02721381,\n",
       "        0.00779121, -0.00395985, -0.04306196, -0.02608665,  0.02638069,\n",
       "       -0.00400684, -0.04258148, -0.04929513,  0.02683005,  0.01827803,\n",
       "       -0.03519298,  0.03908564, -0.04234514,  0.03925336,  0.00668054,\n",
       "        0.01213461,  0.03211821, -0.01659207, -0.017865  , -0.01762457,\n",
       "       -0.00389681, -0.04444006, -0.00996961,  0.04723156,  0.04376255,\n",
       "       -0.04110534, -0.02737002, -0.04092026,  0.00321771,  0.01242561,\n",
       "       -0.02439967,  0.03101602,  0.03026775, -0.0224191 , -0.00197592,\n",
       "       -0.04324504, -0.01653211,  0.04000873,  0.02566159, -0.01814197,\n",
       "       -0.03651919, -0.04117288,  0.0276035 ], dtype=float32)"
      ]
     },
     "execution_count": 74,
     "metadata": {
      "tags": []
     },
     "output_type": "execute_result"
    }
   ],
   "source": [
    "weights[0, :]"
   ]
  },
  {
   "cell_type": "code",
   "execution_count": null,
   "metadata": {
    "colab": {
     "base_uri": "https://localhost:8080/"
    },
    "id": "BcUSJ9t_hbtk",
    "outputId": "0e16dae7-e5b4-4688-b187-4f6223204ee8"
   },
   "outputs": [
    {
     "name": "stdout",
     "output_type": "stream",
     "text": [
      "[[ 0.04762546  0.02011238  0.02815828 ... -0.03651919 -0.04117288\n",
      "   0.0276035 ]\n",
      " [ 0.16605058 -0.3934475  -0.3970987  ... -0.64824706 -0.098871\n",
      "  -0.12880938]\n",
      " [-0.31888843 -0.17508812 -0.02238436 ... -0.00429285 -0.27655992\n",
      "  -0.29957938]\n",
      " ...\n",
      " [-0.19513527 -0.02738732  0.08178044 ... -0.04069098  0.26855364\n",
      "  -0.55240065]\n",
      " [ 0.08220143  0.13567086 -0.06160684 ... -0.12984905 -0.27806178\n",
      "  -0.10270512]\n",
      " [-0.07534225  0.12341255 -0.09591191 ... -0.37375617  0.16721362\n",
      "   0.05962246]]\n",
      "['', '[UNK]', 'vesszõ', 'a', 'pont', 'kötõjel', 'az', 'hogy', 's', 'nem', 'is', 'egy', 'és', 'de', 'kettõspont', 'volt', 'meg', 'kérdőjel', 'csak', 'ha', 'sem', 'még', 'azt', 'én', 'már', 'nagy', 'ez', 'el', 'hát', 'van', 'úgy', 'mert', 'mint', 'volna', 'ki', 'most', 'mondta', 'ott', 'e', 'király', 'te', 'mi', 'aztán', 'ő', 'mit', 'olyan', 'két', 'akkor', 'ezt', 'ne', 'itt', 'jó', 'mikor', 'ember', 'majd', 'vagy', 'pedig', 'neki', 'fel', 'szegény', 'szép', 'minden', 'mind', 'lesz', 'egyszer', 'így', 'mondja', 'kell', 'no', 'jól', 'hanem', 'éppen', 'aki', 'amikor', 'le', 'három', 'királyfi', 'be', 'bizony', 'egész', 'ment', 'kis', 'mindjárt', 'lett', 'édes', 'se', 'nap', 'azzal', 'nekem', 'hiszen', 'mintha', 'amint', 'mondotta', 'hol', 'legény', 'öreg', 'nagyon', 'alatt', 'vissza', 'sok', 'királykisasszony', 'kellett', 'után', 'arra', 'kérdezte', 'igen', 'annak', 'lehet', 'valami', 'asszony', 'isten', 'ahogy', 'vagyok', 'felé', 'egyik', 'magát', 'erre', 'leány', 'nincs', 'rá', 'fiam', 'őket', 'talán', 'úr', 'vele', 'kicsi', 'azért', 'ilyen', 'egyszerre', 'maga', 'ide', 'mindig', 'tovább', 'előtt', 'abban', 'kapitány', 'azonban', 'addig', 'ennek', 'szépen', 'voltak', 'neked', 'míg', 'tudom', 'hej', 'na', 'amit', 'át', 'tudta', 'hét', 'semmi', 'oda', 'alig', 'ahol', 'más', 'haza', 'másik', 'megint', 'történt', 'jött', 'milyen', 'első', 'felelte', 'elég', 'között', 'hiába', 'amely', 'szólt', 'föld', 'ó', 'ugyan', 'többet', 'ismét', 'reggel', 'hozzá', 'néhány', 'ami', 'ezek', 'mégis', 'tenger', 'senki', 'uram', 'miért', 'hirtelen', 'legyen', 'fiú', 'fekete', '–', 'magában', 'csakugyan', 'elé', 'azon', 'alá', 'lehetett', 'ma', 'látta', 'semmit', 'jaj', 'tehát', 'ezen', 'világ', 'idő', 'szeme', 'tudja', 'ám', 'több', 'soha', 'mindent', 'víz', 'rajta', 'nélkül', 'egyet', 'ördög', 'maradt', 'bezzeg', 'őt', 'pillanatban', 'vén', 'felséges', 'hadd', 'engem', 'ebben', 'fehér', 'belőle', 'egészen', 'ért', 'éjjel', 'óra', 'mentek', 'gondolta', 'láttam', 'mondá', 'királyné', 'este', 'azután', 'kedves', 'tőle', 'való', 'megy', 'mellett', 'barbicane', 'annyi', 'jános', 'fejét', 'együtt', 'kérdi', 'kiáltott', 'látott', 'hosszú', 'túl', 'oly', 'igaz', 'amíg', 'utána', 'azok', 'vette', 'fia', 'adott', 'istenem', 'emberek', 'tudott', 'egyetlen', 'mely', 'állott', 'járt', 'mire', 'akár', 'igazán', 'erősen', 'sztrogof', 'hatalmas', 'föl', 'hold', 'össze', 'ezzel', 'vajon', 'körül', 'szörnyű', 'felesége', 'vége', 'ekkor', 'szerint', 'dick', 'királynak', 'kicsit', 'szó', 'hajó', 'város', 'benne', 'inkább', 'tizenkét', 'arany', 'száz', 'állt', 'hogyan', 'valamit', 'erős', 'új', 'valaki', 'másnap', 'belé', 'kin', 'jobban', 'valóban', 'jön', 'kezét', 'nézett', 'szél', 'vannak', 'fa', 'akik', 'nagyot', 'óriási', 'nautilus', 'magas', 'akart', 'négy', 'katalin', 'ők', 'telt', 'hat', 'újra', 'vár', 'közben', 'jobb', 'velem', 'otthon', 'berzsián', 'szinte', 'rengeteg', 'sohasem', 'különben', 'erdőbe', 'utolsó', 'látja', 'ezért', 'ült', 'vizet', 'elment', 'tud', 'királyom', 'fu', 'fiatal', 'michel', 'messze', 'sokáig', 'keresztül', 'látom', 'legalább', 'földre', 'ön', 'szemét', 'farkas', 'amelyet', 'tett', 'mivel', 'ugy', 'került', 'hátha', 'gondolt', 'péter', 'mellé', 'vitéz', 'róla', 'persze', 'felelt', 'előre', 'öcsi', 'teljesen', 'nekik', 'bűbájos', 'tette', 'jutott', 'fél', 'bab', 'közé', 'miklós', 'akinek', 'áll', 'egyszeriben', 'hallod', 'akarta', 'mondom', 'szót', 'leánya', 'végre', 'pár', 'hová', 'múlva', 'közt', 'földön', 'óriás', 'sárkány', 'nagyobb', 'szabad', 'lenne', 'zárójelzár', 'többi', 'ezer', 'aranyat', 'holnap', 'gyorsan', 'mindenféle', 'látod', 'drága', 'értek', 'téged', 'bizonyosan', 'bele', 'öregember', 'mindenki', 'gazdag', 'előtte', 'elindult', 'sokat', 'ned', 'közül', 'igazi', 'embert', 'lelkem', 'kezdett', 'apja', 'nehéz', 'akar', 'zárójelnyit', 'eltűnt', 'attól', 'berci', 'észre', 'palkó', 'ég', 'egyedül', 'adta', 'megyek', 'legkisebb', 'esett', 'palotába', 'lövedék', 'fog', 'öregasszony', 'tudod', 'lassan', 'arról', 'gyere', 'fordult', 'tíz', 'kutya', 'feje', 'egyenesen', 'eddig', 'ló', 'jár', 'folytatta', 'ádám', 'nemo', 'szent', 'harmadik', 'látszott', 'hiszem', 'először', 'vitte', 'voltam', 'palota', 'ebből', 'különös', 'ellen', 'conseil', 'éjszaka', 'világon', 'esztendő', 'eredj', 'erdő', 'sírt', 'látni', 'annyit', 'anyja', 'madár', 'nézte', 'bár', 'ahhoz', 'levelet', 'csakhogy', 'indult', 'bizonyos', 'ti', 'többé', 'merre', 'menj', 'baj', 'jutka', 'szaladt', 'leányát', 'leányt', 'apám', 'menjen', 'egyre', 'adja', 'ország', 'kisasszony', 'várta', 'mondtam', 'magam', 'adok', 'vagyunk', 'öt', 'mondani', 'előbb', 'sőt', 'azonnal', 'út', 'régi', 'ház', 'szóval', 'hegy', 'gyönyörű', 'elő', 'róka', 'akit', 'számára', 'királykisasszonyt', 'akarja', 'mendegélt', 'közepén', 'ottan', 'embernek', 'jankó', 'velük', 'nappal', 'második', 'fölött', 'ajtó', 'abból', 'végül', 'menni', 'felett', 'találta', 'szíve', 'annyira', 'rossz', 'dolog', 'úton', 'szomorú', 'kend', 'vett', 'boszorkány', 'érte', 'vörös', 'tele', 'gazdám', 'lakott', 'hallottam', 'abba', 'gonosz', 'tudták', 'hallotta', 'királyhoz', 'egymást', 'csupán', 'tüzet', 'teljes', 'fogta', 'béka', 'tó', 'sincs', 'pénzt', 'anna', 'kiment', 'sötét', 'hetedhét', 'napon', 'tűz', 'tenni', 'tündér', 'tudtam', 'leszek', 'kettő', 'albatros', 'városba', 'ezeket', 'eszébe', 'egymás', 'végig', 'táltos', 'mondd', 'derék', 'melyet', 'neve', 'talált', 'medve', 'egyéb', 'amelynek', 'rám', 'kapott', 'hitte', 'erdőben', 'mielőtt', 'annál', 'tartott', 'szebb', 'miatt', 'magának', 'bement', 'amerikai', 'ím', 'állat', 'jöttek', 'válaszolt', 'hogyne', 't', 'óceán', 'hagyta', 'amelyek', 'akarsz', 'nicholl', 'magával', 'adjon', 'sikerült', 'meglátta', 'akkora', 'zöld', 'saját', 'látszik', 'gazda', 'földet', 'óta', 'nagyapó', 'kiáltotta', 'hozott', 'kérte', 'ilona', 'ardan', 'utat', 'sokkal', 'micsoda', 'bennünket', 'szobába', 'robur', 'idegen', 'tudok', 'fogja', 'erről', 'elébb', 'elkezdett', 'szultán', 'lovat', 'barátom', 'méter', 'mondott', 'kék', 'nos', 'miféle', 'legnagyobb', 'hozzám', 'fák', 'tatárok', 'mégsem', 'egyszeribe', 'déli', 'csupa', 'mögött', 'halál', 'tengeren', 'nagya', 'kenyeret', 'jő', 'ablakon', 'nekünk', 'mester', 'meghalt', 'igy', 'ettől', 'mért', 'bolond', 'ér', 'bíró', 'lám', 'lenni', 'herceg', 'látták', 'falu', 'búsan', 'veled', 'máris', 'nemcsak', 'valahol', 'ugyanis', 'múlt', 'gyermek', 'bácsi', 'örömmel', 'miután', 'lépett', 'krisztus', 'hamarosan', 'fogg', 'beszélt', 'marad', 'lába', 'kilenc', 'onnét', 'melyik', 'eleget', 'tengeri', 'kellene', 'mihály', 'mennek', 'ketten', 'elől', 'szívvel', 'hé', 'fát', 'emberi', 'piros', 'land', 'gyerekek', 'uncle', 'rettentő', 'nézi', 'könnyen', 'ugye', 'nyomban', 'minthogy', 'legszebb', 'partján', 'által', 'ezután', 'levegő', 'napot', 'kerül', 'haladt', 'adom', 'örült', 'szerette', 'mély', 'minket', 'gróf', 'ogaref', 'innét', 'asztal', 'szívesen', 'mondták', 'apa', 'tiszta', 'veres', 'szem', 'pontosan', 'ősz', 'weldonné', 'kinek', 'inas', 'hideg', 'folyton', 'bizonyára', 'azóta', 'vagyis', 'klopédia', 'élet', 'lakodalmat', 'különösen', 'változott', 'helyett', 'futott', 'nehogy', 'később', 'dehogy', 'élnek', 'jót', 'gondolja', 'ali', 'édesapám', 'királya', 'hamar', 'folyó', 'feleségül', 'bal', 'azokat', 'tanár', 'széles', 'repült', 'félj', 'bort', 'biz', 'viszont', 'ajtót', 'külön', 'kissé', 'vetett', 'tetszett', 'katona', 'j', 'helyen', 'fényes', 'club', 'érezte', 'tied', 'patak', 'leányok', 'ifjú', 'világot', 'tom', 'prudent', 'királyfinak', 'egyebet', 'él', 'ura', 'rájuk', 'mégpedig', 'mégiscsak', 'lát', 'leányom', 'lakik', 'dolgot', 'vitték', 'boldog', 'ragyogó', 'nyilván', 'keservesen', 'varázsló', 'koma', 'északi', 'válaszolta', 'vágott', 'szerencsét', 'i', 'tűnt', 'tőlem', 'tetején', 'szája', 'fiút', 'feküdt', 'valaha', 'kívül', 'felől', 'perc', 'kanadai', 'híres', 'egyáltalán', 'darab', 'biztos', 'öröm', 'onnan', 'melynek', 'következő', 'fogva', 'sróf', 'phil', 'hangon', 'valamelyik', 'megijedt', 'lélek', 'fiúk', 'elmegy', 'aranyos', 'városban', 'sehol', 'kezében', 'szemben', 'minek', 'bölcs', 'végén', 'néha', 'mindenütt', 'láb', 'legénynek', 'királyi', 'házba', 'bánom', 'bemegy', 'vált', 'roppant', 'leült', 'élt', 'magára', 'magukat', 'hátra', 'halász', 'fölé', 'craig', 'adj', 'nyugodtan', 'mondják', 'legényt', 'kettőt', 'gyűrűt', 'gondoltam', 'add', 'öcsém', 'álló', 'sziget', 'fry', 'sűrű', 'könnyű', 'alól', 'vágta', 'veszi', 'szállt', 'haj', 'csodálatos', 'csaptak', 'aludt', 'utasok', 'szalad', 'maston', 'jobbra', 'egyenest', 'vízbe', 'rettenetes', 'királyfit', 'kedve', 'fiát', 'enyém', 'tetszik', 'megállt', 'macska', 'keserves', 'hallja', 'tudtak', 'tudsz', 'passepartout', 'készen', 'fogadta', 'elmondta', 'balra', 'észrevette', 'vadász', 'országon', 'kő', 'húsz', 'szobában', 'megszólalt', 'kezébe', 'ideje', 'hal', 'csináljon', 'csendesen', 'levő', 'igaza', 'evans', 'egyébként', 'borult', 'ajtón', 'többiek', 'repülő', 'partjára', 'közbe', 'hallott', 'ejnye', 'nyolc', 'nemsokára', 'mutatott', 'lehetne', 'hátára', 'semmiféle', 'nektek', 'mást', 'legények', 'idősebb', 'gyerek', 'rögtön', 'hang', 'dolga', 'tetejére', 'tegnap', 'tartotta', 'talál', 'pompás', 'jelent', 'arca', 'angol', 'amerre', 'ugrott', 'udvarába', 'szemmel', 'sebességgel', 'kezdte', 'hisz', 'harris', 'érkezett', 'tudni', 'tatár', 'meleg', 'ugyancsak', 'sárga', 'nézd', 'napra', 'kakas', 'jöjjön', 'jézus', 'csudát', 'adni', 'án', 'messziről', 'lábát', 'keze', 'hasszán', 'gondolkozott', 'vang', 'lehetetlen', 'kígyó', 'innen', 'hazafelé', 'aznap', 'akarom', 'mindenfelé', 'követ', 'amilyen', 'akadt', 'újabb', 'levegőben', 'jut', 'ismeretlen', 'ideig', 'gép', 'bálint', 'barlangi', 'amelyik', 'akartam', 'pap', 'magához', 'királyt', 'kelt', 'jancsi', 'francia', 'várj', 'verte', 'vastag', 'tudjuk', 'kevés', 'kerek', 'egér', 'év', 'valamennyi', 'szerencsétlen', 'szentpáli', 'nézz', 'huszonnégy', 'fejezet', 'vízben', 'vették', 'professzor', 'módon', 'magad', 'legjobb', 'zsák', 'tündérek', 'termett', 'sánta', 'népek', 'megfogta', 'egymástól', 'búsult', 'venni', 'törpe', 'kálmán', 'jere', 'elébe', 'életét', 'pindur', 'mig', 'mellette', 'fele', 'édesanyám', 'vigyázz', 'nosza', 'készült', 'honnét', 'negoro', 'megkérdezte', 'középső', 'kereskedő', 'kerekedett', 'haltak', 'cigány', 'aranyszőrű', 'aladdin', 'tért', 'szélén', 'oka', 'nyúl', 'lány', 'ferenc', 'anyám', 'útját', 'vetette', 'velünk', 'baja', 'úgyis', 'épp', 'világgá', 'szeretném', 'reá', 'kik', 'fontos', 'folyt', 'egyesült', 'nőtt', 'nézni', 'magyar', 'leánynak', 'jártak', 'feleségét', 'mirkó', 'kari', 'halt', 'áldott', 'udvarra', 'templom', 'szobájába', 'szempillantásban', 'szaladott', 'régen', 'phileas', 'megszólal', 'hm', 'erővel', 'ebbe', 'csendes', 'visszament', 'néz', 'mr', 'maguk', 'kapta', 'híre', 'hajót', 'várat', 'nesze', 'napig', 'mérföld', 'midőn', 'legidősebb', 'jelentette', 'hány', 'eközben', 'csakhamar', 'anélkül', 'világszép', 'tengerbe', 'légy', 'lássa', 'kit', 'házat', 'gondol', 'délután', 'senkinek', 'országban', 'mihelyt', 'közeledett', 'arcát', 'ül', 'útra', 'ördögök', 'nehezen', 'mennyi', 'hárman', 'fiu', 'akarok', '000', 'álom', 'sebesebben', 'pillanat', 'országot', 'láttak', 'levél', 'estére', 'boldogan', 'barna', 'állatok', 'vas', 'valamilyen', 'tudják', 'templomba', 'szikra', 'paripa', 'mosolygott', 'kezet', 'hangja', 'gyermekek', 'enni', 'doktor', 'nevét', 'mendegéltek', 'közelebb', 'körülbelül', 'irányban', 'háromszor', 'evett', 'elindultak', 'bandi', 'asszonyt', 'végtelen', 'voltál', 'vihar', 'szemem', 'nevetett', 'lefeküdt', 'ilyenkor', 'ennél', 'beszélni', 'ad', 'üres', 'életben', 'szerencse', 'szekér', 'katonák', 'itthon', 'hátán', 'hozta', 'emelkedett', 'bátran', 'belépett', 'ördöngös', 'tücsök', 'kész', 'kisebb', 'kertbe', 'helyet', 'gondolat', 'esztendeig', 'császár', 'várba', 'sebes', 'munka', 'miközben', 'kardot', 'juhász', 'hajón', 'gazdája', 'ablak', 'útnak', 'életem', 'szükség', 'szeretett', 'sor', 'ragyogott', 'okos', 'nyakába', 'mátyás', 'megyünk', 'közel', 'köszönöm', 'hull', 'ujra', 'szállást', 'part', 'oldalán', 'mókus', 'lefelé', 'kacagott', 'halljatok', 'fiának', 'faluba', 'benedek', 'örömében', 'várt', 'szürke', 'sereg', 'kétszer', 'kérem', 'kán', 'istállóba', 'férfi', 'fény', 'fekszik', 'esik', 'csikó', 'állottak', 'tőled', 'támadt', 'része', 'nannyó', 'jelenti', 'elbúcsúzott', 'egyes', 'csapott', 'biztosan', 'íme', 'vezető', 'ezalatt', 'sóhajtott', 'szerencsére', 'nép', 'körülmények', 'könyörgött', 'hiszi', 'gun', 'eső', 'erdőn', 'udvaron', 'szál', 'majdnem', 'ismerte', 'feleségének', 'színe', 'sas', 'rövid', 'pénz', 'pilgrim', 'partra', 'megállj', 'maradjon', 'küldött', 'értem', 'téli', 'szólalt', 'néni', 'mélyen', 'menjünk', 'hopp', 'félig', 'finom', 'mindennap', 'melyek', 'felült', 'esze', 'csinált', 'andris', 'várost', 'valóságos', 'segítségével', 'rég', 'mondjad', 'kecske', 'jöttem', 'ereje', 'búsulj', 'apró', 'szól', 'szomszéd', 'oroszlán', 'maradj', 'eltelt', 'egyszerű', 'tudd', 'szóló', 'ruhát', 'nálam', 'megköszönte', 'mbonga', 'koldus', 'kitűnő', 'jolivet', 'itten', 'istennek', 'húzta', 'györgy', 'fára', 'feleségem', 'órakor', 'történik', 'mennyire', 'kért', 'hallatszott', 'gyuri', 'asszonyom', 'ahová', 'virág', 'utoljára', 'találkozott', 'találja', 'messzire', 'félt', 'erősebb', 'ehhez', 'csaknem', 'bajod', 'aludni', 'érdekes', 'véget', 'vettem', 'uramteremtőm', 'tőlük', 'tehén', 'száját', 'rózsa', 'meglátja', 'feleség', 'vitt', 'természetesen', 'rajtam', 'mondok', 'madarat', 'leszünk', 'laci', 'királykisasszonynak', 'idején', 'ellenére', 'amennyi', 'teszi', 'találtak', 'reggelre', 'hittem', 'friss', 'beszél', 'vacsorát', 'szembe', 'palotában', 'másodszor', 'megörült', 'maradott', 'kimegy', 'kard', 'helyét', 'hegyek', 'csinál', 'bátyám', 'élete', 'ázem', 'tanácsot', 'találtam', 'pillanatra', 'levegőt', 'kiabált', 'kardját', 'ijedten', 'igazat', 'huszár', 'hogyha', 'helyre', 'hamupipőke', 'gyurka', 'felső', 'diák', 'vize', 'tört', 'tart', 'szikla', 'szakadt', 'odament', 'mentén', 'madarak', 'keleti', 'halálom', 'övé', 'vígan', 'visszatért', 'túlsó', 'szomorúan', 'munkát', 'követte', 'kocsis', 'felséged', 'béla', 'alszik', 'vedd', 'valahogy', 'urak', 'szigeten', 'márpedig', 'lelke', 'karját', 'igazság', 'hagyja', 'beteg', 'titokzatos', 'szoba', 'szaladtak', 'parton', 'megállott', 'lakodalom', 'különböző', 'kérdés', 'képes', 'forró', 'esztendeje', 'elmegyek', 'beszéltek', 'várták', 'tudjátok', 'például', 'látsz', 'lehetséges', 'jegyezte', 'hazament', 'földi', 'egymással', 'violin', 'tüstént', 'szörnyen', 'szét', 'szavát', 'napja', 'lettek', 'legalábbis', 'kínai', 'kata', 'hívták', 'harmadszor', 'furcsa', 'fején', 'ettek', 'elnök', 'ülj', 'útközben', 'úgyhogy', 'vér', 'valósággal', 'utánuk', 'senkit', 'nyelte', 'nincsen', 'lassanként', 'honnan', 'fejű', 'elmentek', 'elaludt', 'arannyal', 'akarod', 'adtak', 'özvegy', 'éves', 'állandóan', 'világos', 'sokszor', 'kérdeztem', 'kinyitotta', 'kezdve', 'kapu', 'gortz', 'dániel', 'deck', 'csudálatos', 'belső', 'asztalra', 'amelyeket', 'állj', 'viszem', 'tessék', 'tartani', 'nyílt', 'mögé', 'mindenesetre', 'font', 'dél', 'ötven', 'éltek', 'vadászni', 'uccu', 'tedd', 'találták', 'nő', 'nála', 'nevet', 'mindegy', 'illendőképpen', 'hullott', 'fogok', 'felkapta', 'ezüst', 'zsákot', 'szóra', 'mutatta', 'megfordult', 'legényke', 'kút', 'kint', 'indultak', 'háza', 'hetedik', 'halak', 'feleltem', 'eléggé', 'apjának', 'újból', 'órát', 'városába', 'szun', 'szolgálatot', 'rohant', 'mintegy', 'mendegél', 'lovakat', 'leányka', 'kezéből', 'jönnek', 'jársz', 'iránt', 'hegyen', 'hegyeken', 'hangosan', 'államok', 'ágy', 'török', 'tudná', 'tartja', 'sikerül', 'meglehetősen', 'magától', 'keveset', 'ivott', 'időben', 'helyzet', 'gyakran', 'elővette', 'úgysem', 'végére', 'szempillantás', 'sajnos', 'rém', 'másikat', 'megvan', 'im', 'hírét', 'hintó', 'galamb', 'azoknak', 'amelyen', 'akármit', 'akkorát', 'égen', 'vak', 'vagytok', 'tövében', 'száraz', 'szabadon', 'nevű', 'megparancsolta', 'kötelet', 'időt', 'egyelőre', 'voltunk', 'vezette', 'vajjon', 'sírva', 'szemük', 'sir', 'palotát', 'lesznek', 'következik', 'kötötte', 'kérdezték', 'kiugrott', 'hozza', 'gyermeket', 'földről', 'urunk', 'tömeg', 'társai', 'terem', 'mama', 'kérlek', 'igenis', 'hó', 'hintóba', 'hajóra', 'feleli', 'elegendő', 'belül', 'aranyhajú', 'éles', 'weisz', 'valószínűleg', 'udvar', 'tán', 'rendben', 'parancsolta', 'odaadta', 'mese', 'kétszáz', 'komoly', 'kezével', 'gyors', 'fogadja', 'eget', 'cár', 'csillag', 'asszonynak', 'óperenciás', 'viszi', 'sötétség', 'szükséges', 'sorba', 'meghallotta', 'ezeknek', 'erdőből', 'ugrifüles', 'törte', 'talpra', 'mérgesen', 'megjelent', 'kár', 'hétig', 'földbe', 'férjhez', 'ennyi', 'alatti', 'ültek', 'álltak', 'teleki', 'sebesen', 'orra', 'nézze', 'mily', 'megmondom', 'látok', 'leszállott', 'kézzel', 'hónap', 'gyerünk', 'ezúttal', 'ügyes', 'éreztem', 'ward', 'véka', 'parancsnok', 'mozdult', 'lovára', 'kéz', 'kérdést', 'kénytelen', 'komámasszony', 'ismert', 'csomó', 'ben', 'öböl', 'telik', 'sietett', 'lóra', 'képében', 'kisfiú', 'kertben', 'jöttél', 'házban', 'hercules', 'földhöz', 'fogott', 'fedélzeten', 'ban', 'életében', 'vagyon', 'szive', 'szeretnék', 'paraszt', 'ordított', 'hullámok', 'helyes', 'halálnak', 'elefánt', 'beszéd', 'apád', 'alaposan', 'úrfi', 'éjszakát', 'vízből', 'tettek', 'mulva', 'mrs', 'lova', 'királynét', 'jóformán', 'ittak', 'felét', 'elvette', 'csónak', 'észak', 'völgyeken', 'vízzel', 'vendégek', 'tizenegy', 'szavamat', 'mond', 'komolyan', 'gyenge', 'embereket', 'egyszerűen', 'bátyja', 'báró', 'bor', 'alakú', 'túlságosan', 'törpék', 'tesz', 'tejet', 'szava', 'suttogta', 'negyven', 'húst', 'háromszáz', 'hitték', 'ezelőtt', 'elmúlt', 'csinálni', 'azelőtt', 'érnek', 'éhes', 'égő', 'weldon', 'vágtatott', 'vigye', 'tüzes', 'tudós', 'szépséges', 'szokott', 'szeretettel', 'szellem', 'részét', 'részén', 'paripát', 'némi', 'minél', 'ismeri', 'félek', 'elejébe', 'csepp', 'barát', 'anya', 'éva', 'tudnak', 'rendkívül', 'orosz', 'odamegy', 'noha', 'megragadta', 'megette', 'kocsi', 'kezd', 'jertek', 'hely', 'hallgatott', 'fiúnak', 'emelte', 'barátaim', 'akarták', 'ételt', 'árva', 'zengett', 'vezetett', 'vad', 'szüksége', 'szalonnát', 'másként', 'mindössze', 'megáll', 'lovak', 'királyúrfi', 'intett', 'halálával', 'hagyták', 'félre', 'feléje', 'ellenség', 'eljött', 'akiket', 'úszott', 'önt', 'érzem', 'tűnődött', 'tették', 'ránk', 'méltó', 'máskor', 'halkan', 'benkő', 'belsejében', 'aligha', 'ütött', 'örök', 'épen', 'vállára', 'természet', 'székely', 'papot', 'pajtás', 'nyugati', 'hozzájuk', 'hova', 'hercegek', 'hallom', 'forintot', 'fogom', 'faluban', 'európai', 'eszembe', 'eresztette', 'csöndesen', 'élő', 'véletlenül', 'vacsora', 'szobából', 'néztek', 'nyoma', 'maradása', 'látják', 'láng', 'legjobban', 'kislány', 'kaptam', 'ismerem', 'hazulról', 'hasznát', 'gondolom', 'giufa', 'esetleg', 'azalatt', 'asztalhoz', 'öregek', 'váratlan', 'utánam', 'távolságban', 'találkozik', 'ritkán', 'puha', 'kenyér', 'jack', 'hozzád', 'hegynek', 'haraggal', 'halála', 'hallani', 'halat', 'gyémánt', 'gyurika', 'gondolsz', 'fix', 'erőt', 'elvitte', 'darabig', 'csodálkozott', 'bobofác', 'adtam', 'özvegyasszony', 'zsebenci', 'vízen', 'tartozik', 'palotájába', 'merthogy', 'megvolt', 'maradok', 'könyvet', 'komám', 'kezére', 'kapun', 'igyekezett', 'hallották', 'hagyott', 'frycollin', 'fedor', 'elmondja', 'csuda', 'atlanti', 'többször', 'tizenöt', 'sehogy', 'rosszul', 'reám', 'néztem', 'nevében', 'lovát', 'jövő', 'izgatottan', 'ivan', 'illeti', 'fölkelt', 'feleségével', 'elhagyta', 'csináljak', 'bátor', 'bámult', 'arcza', 'alsó', 'édesanyja', 'testét', 'született', 'rimai', 'pillanatig', 'parancsot', 'mondod', 'megtetszett', 'megcsókolta', 'késő', 'karóba', 'helyébe', 'ej', 'öreganyám', 'vegye', 'sült', 'rimapénteki', 'rajtuk', 'pásztor', 'olyat', 'mentem', 'megmondani', 'látható', 'köszönti', 'halad', 'gyönyörűséges', 'fut', 'felugrott', 'felhők', 'fejem', 'blount', 'bent', 'amelyben', 'utcán', 'urának', 'tájt', 'tettem', 'testvér', 'szólott', 'száll', 'szekeret', 'sasfészek', 'nézték', 'melyben', 'magasabb', 'közelében', 'kert', 'ihol', 'haragra', 'gondolták', 'folytán', 'fognak', 'esztendővel', 'estét', 'erő', 'engedte', 'dolgozott', 'dingo', 'apó', 'aközben', 'örökre', 'ökör', 'világosság', 'tábornok', 'szörnyeteg', 'szertelen', 'szeméből', 'nyáron', 'nyakát', 'new', 'negyedik', 'mióta', 'maradtak', 'magukkal', 'levágta', 'kelet', 'helyben', 'gondosan', 'fejére', 'elhatározta', 'egymásra', 'biztatta', 'beszélsz', 'amennyit', 'ördögnek', 'épült', 'vára', 'vasárnap', 'sétált', 'szállott', 'szerencsés', 'nyulat', 'lement', 'köszönt', 'körülötte', 'kemény', 'háznál', 'hinni', 'helyére', 'hajnal', 'fának', 'fordul', 'baba', 'útja', 'égett', 'tolvaj', 'szereti', 'segíteni', 'rád', 'rongyos', 'név', 'nyugodt', 'nyitva', 'mária', 'mellől', 'közönséges', 'kerültek', 'házához', 'házába', 'hegység', 'hangya', 'hallgass', 'hacsak', 'felkiáltott', 'etelka', 'elöl', '12', 'virágos', 'szeretem', 'szempillantásra', 'pengő', 'mindez', 'melléje', 'megnézte', 'legmagasabb', 'kezdtek', 'jókor', 'hófehér', 'hoztam', 'hoz', 'halott', 'gyermeke', 'emlékszem', 'barlang', 'ajtaja', 'várban', 'utas', 'távol', 'tátva', 'tartották', 'réten', 'rémülten', 'péntekh', 'nincsenek', 'ni', 'nagyszerű', 'mélységben', 'mezőre', 'lépést', 'lászló', 'lovam', 'lakói', 'külső', 'kolc', 'kati', 'hangját', 'halálra', 'hajtotta', 'gyorsabban', 'gazduram', 'fogunk', 'fogják', 'emelkedik', 'egymásnak', 'ebéd', 'csapat', 'bátyjai', '2', 'töltötte', 'társa', 'szamár', 'napok', 'miben', 'hétfejű', 'hiszed', 'hasonló', 'fadöntő', 'előttem', 'eltelik', 'büszkén', 'barnabás', 'azám', 'anyjának', 'akárcsak', 'akartak', 'égre', 'árpád', 'városból', 'vidd', 'utazás', 'tudományos', 'szavakat', 'san', 'rókáné', 'menjetek', 'megtudta', 'legyenek', 'kisleány', 'hír', 'halálos', 'fő', 'fájt', 'fent', 'erdőkön', 'csónakot', 'azaz', 'üveg', 'ütötte', 'órával', 'zsebébe', 'virágok', 'valamely', 'továbbra', 'természetes', 'súlyos', 'sír', 'szélesség', 'sokan', 'néger', 'mondjam', 'látnak', 'li', 'köztük', 'kincset', 'kereste', 'indul', 'igazad', 'haladtak', 'fáról', 'fogsz', 'elkezd', 'csoda', 'anyu', 'akármilyen', 'önök', 'zúgott', 'véletlen', 'többsincs', 'titkos', 'sütött', 'szívem', 'szájából', 'stilla', 'sebessége', 'remélem', 'reggelig', 'petur', 'palotája', 'nyár', 'nak', 'mondották', 'leányának', 'leányomat', 'letette', 'leszállt', 'leszáll', 'közepére', 'kifelé', 'keskeny', 'kapitányt', 'ilyet', 'hosszan', 'fiaim', 'felébredt', 'fejében', 'ettem', 'almát', 'óvatosan', 'életet', 'álmot', 'vízi', 'történetét', 'sand', 'ruhában', 'rudolf', 'rendes', 'némán', 'nemigen', 'nagyherceg', 'mások', 'mosolyogva', 'mindenre', 'mindenfelől', 'leszel', 'kutyák', 'kivette', 'királyságát', 'királyfik', 'kilépett', 'kastély', 'június', 'házból', 'helyén', 'hangzott', 'feltaláló', 'farkast', 'estig', 'bánat', 'barátja', 'asszonyok', 'apókám', 'aludott', '1', 'élni', 'zsebéből', 'vert', 'valamennyien', 'utóbb', 'néma', 'nemes', 'mitől', 'merült', 'kérdezi', 'képet', 'kiabálta', 'kaptak', 'jelenség', 'füle', 'feleséged', 'elévette', 'csöndes', 'bokrok', 'bokor', 'adják', 'ültette', 'vonat', 'veszem', 'udvarba', 'tisztán', 'szívét', 'szerencsésen', 'palotából', 'országában', 'nyugat', 'mérnök', 'mégy', 'mondhatom', 'megmaradt', 'megindult', 'láthatatlan', 'lányok', 'kíván', 'kér', 'kigyelmed', 'kezem', 'kap', 'jössz', 'járatban', 'hívta', 'hevert', 'harminc', 'hagyd', 'gyűrű', 'erdész', 'elbeszélte', 'egyél', 'délben', 'dali', 'csikót', 'bennszülöttek', 'beljebb', 'asztalon', 'amire', 'amerika', 'öregapám', 'érő', 'érzett', 'élek', 'ágyúgolyó', 'ágyat', 'záporeső', 'vidám', 'valójában', 'tengert', 'szüntelen', 'szokás', 'strock', 'népe', 'mélyén', 'mivelhogy', 'mai', 'magyarok', 'magasra', 'legyek', 'kétfelé', 'kihúzta', 'kevésbé', 'keresni', 'irányba', 'holdat', 'haja', 'folyvást', 'erdőt', 'bemennek', 'amellyel', 'alighogy', 'ahány', 'ahogyan', 'összes', 'önnek', 'érted', 'éljen', 'életének', 'álljon', 'választ', 'válasz', 'vinni', 'valamivel', 'törődött', 'tóba', 'tényleg', 'ténsúr', 'tengerre', 'tekintete', 'tehetett', 'részt', 'országát', 'obsitos', 'nagyokat', 'mutatkozott', 'mikkamakka', 'merész', 'megérkezett', 'matyi', 'kutyát', 'kimentek', 'keresi', 'július', 'jel', 'háta', 'hangos', 'felment', 'ezüstöt', 'eszik', 'előttük', 'egyiket', 'csúnya', 'összevissza', 'éjszakára', 'végső', 'vidék', 'többit', 'sárkányt', 'rózsát', 'ráadó', 'porrá', 'pokolba', 'orvos', 'mérföldnyire', 'mostan', 'mendegélnek', 'lelket', 'köszön', 'képe', 'járjon', 'hűséges', 'hátsó', 'hármat', 'hozzánk', 'hazamegy', 'fölmegy', 'félelmetes', 'fáj', 'forgott', 'afrikai', 'adták', 'írást', 'éve', 'értette', 'állatot', 'vénasszony', 'u', 'tükör', 'szutyori', 'szolga', 'során', 'ruháját', 'reszketett', 'rendesen', 'nyitott', 'múlik', 'mindketten', 'menjenek', 'meghalok', 'maradni', 'magamat', 'kellős', 'kalapját', 'john', 'ital', 'hívják', 'hozd', 'hajnalban', 'hajlandó', 'hagyj', 'erejét', 'elmennek', 'elindul', 'bölcsek', 'akárki', 'akárhogy', 'ajándékot', 'étel', 'válik', 'uraim', 'temérdek', 'templomban', 'szolgáló', 'szemébe', 'rövidesen', 'rétre', 'rázta', 'ritka', 'puszta', 'országába', 'mennyei', 'lövedéket', 'lelkes', 'körüli', 'kopasz', 'kisebbik', 'királynénak', 'kelj', 'jóval', 'hallgatta', 'hajolt', 'gyáva', 'felül', 'felmászott', 'falut', 'emír', 'eleven', '10', 'árkon', 'zárva', 'várja', 'viszik', 'virágot', 'vesd', 'valahányszor', 'vakmerő', 'tamás', 'ruhába', 'repül', 'próbálta', 'nyakigláb', 'molnár', 'mezőn', 'mezőkön', 'melyeket', 'megölte', 'meglátták', 'meghal', 'láttál', 'következett', 'kötött', 'jártam', 'juhászlegény', 'judy', 'irtózatos', 'harmadnap', 'fű', 'fekvő', 'fejüket', 'fal', 'ennyit', 'december', 'bokron', 'becsületes', 'bajba', 'ízben', 'élve', 'életemben', 'átkozott', 'világosan', 'tudna', 'színű', 'szakács', 'smith', 'próbálni', 'merte', 'megérkeztek', 'látóhatár', 'legkedvesebb', 'kiált', 'jönni', 'jánost', 'jánosnak', 'holdba', 'hagyni', 'gyermekeket', 'fülét', 'fáradt', 'figyelte', 'fejébe', 'esztendős', 'elszaladt', 'egyetlenegy', 'csizmadia', 'család', 'bálna', 'anyját', 'amúgy', 'alvez', 'úszó', 'összeszedte', 'észrevették', 'életemet', 'éjfélkor', 'éhen', 'ámbátor', 'visszafordult', 'ugyanaz', 'udvarában', 'tegye', 'talaj', 'szökött', 'szárazföld', 'szintén', 'sose', 'sorban', 'rikkantott', 'parancsolsz', 'nyúlt', 'mindenkinek', 'megszakadt', 'megmondta', 'meglátjuk', 'magamban', 'leesett', 'kívánt', 'károly', 'kora', 'járni', 'hétszer', 'hercegnő', 'hegyes', 'hatlovas', 'gyereket', 'felkelt', 'ereszkedett', 'ekkora', 'délelőtt', 'dolgokat', 'csend', 'bé', 'bárcsak', 'botot', 'boldogtalan', 'akiknek', 'afrika', 'ügyesen', 'úrnak', 'ördögöt', 'írta', 'égből', 'ébren', 'ára', 'várnak', 'válasszon', 'visszafelé', 'világnak', 'uraság', 'találsz', 'találni', 'szűk', 'szomorúság', 'szemed', 'szegények', 'rajtad', 'percben', 'országra', 'mozdulatlanul', 'mindkét', 'mindezt', 'mehetett', 'különb', 'könnyebb', 'kását', 'kurta', 'kapuja', 'határán', 'határozott', 'gábor', 'feofár', 'eszem', 'esetben', 'emberrel', 'elgondolni', 'csókolta', 'cseppet', 'birodalom', 'beszélj', 'asztalt', '5', 'ügyet', 'ökröt', 'éppoly', 'ágat', 'tökéletes', 'társaság', 'táncolt', 'titokban', 'tarka', 'szülei', 'szélnél', 'szigetre', 'szavakkal', 'rettenetesen', 'pénze', 'napról', 'mérföldnyi', 'meredek', 'lent', 'lefeküdtek', 'közepette', 'könny', 'kemence', 'joggal', 'iskolába', 'irkutszkba', 'ily', 'idejében', 'húzott', 'hófehérke', 'hozták', 'hajók', 'fülébe', 'fenekére', 'feltűnt', 'felfelé', 'egykor', 'egyenes', 'csinálsz', 'csakis', 'búzát', 'bennem', 'bementek', 'apámuram', 'akarnak', 'írt', 'írni', 'életre', 'éjfél', 'ád', 'vékony', 'változik', 'visz', 'vesz', 'tél', 'turner', 'találtalában', 'találom', 'szólj', 'szemedet', 'perccel', 'orrát', 'október', 'ok', 'mérföldet', 'mindnyájan', 'megszólítja', 'megpillantotta', 'különleges', 'kétségtelenül', 'kéri', 'kellemes', 'kapa', 'hű', 'hírt', 'hazaért', 'halált', 'halljátok', 'gyalog', 'gondja', 'főként', 'földből', 'forrás', 'fogadott', 'fedélzetre', 'elfogyott', 'dolgozni', 'diákok', 'búbánat', 'bírta', 'arrafelé', 'akad', 'ásó', 'választotta', 'veszély', 'verset', 'vakondok', 'tüskés', 'tegyen', 'szólni', 'szénát', 'szemében', 'siklókígyó', 'rosszat', 'mostoha', 'miből', 'mesét', 'megtalálja', 'meglátod', 'megijed', 'kilométer', 'kijött', 'kidőlt', 'keresték', 'kedvező', 'kakast', 'jutni', 'jer', 'indiai', 'imént', 'időre', 'hírével', 'házában', 'hosszúság', 'holló', 'fok', 'filozófus', 'felállt', 'esztendőben', 'előkelő', 'eltűntek', 'elpusztult', 'csillogó', 'csillagok', 'büszke', 'bármilyen', 'boltos', 'banya', 'anyicska', 'aludtak', 'alatta', 'ablaka', '6', 'őrnagy', 'üldögélt', 'ötödik', 'érzi', 'váratlanul', 'vágja', 'távoli', 'tutaj', 'színarany', 'számos', 'szeret', 'szemügyre', 'szaladj', 'rák', 'papíron', 'nálunk', 'nagyságos', 'maradsz', 'látóhatáron', 'lábbal', 'levegőbe', 'legöregebb', 'kővé', 'könnye', 'költő', 'korán', 'igazságot', 'hazáig', 'hajnali', 'fölment', 'fogvást', 'figyelmét', 'ferkó', 'fenn', 'fejedet', 'egymáshoz', 'biri', 'belőlem', 'avval', '20', 'úri', 'órája', 'életednek', 'általában', 'áldjon', 'vállát', 'veszélyes', 'továbbment', 'teszem', 'sírás', 'szűz', 'szíves', 'számított', 'számomra', 'sorsa', 'semmiképpen', 'ráadásul', 'rockó', 'repültek', 'reggelt', 'otthagyta', 'országa', 'módjára', 'mennyit', 'megmondtam', 'magyarázta', 'lyuk', 'kesergett', 'katonát', 'kapja', 'járnak', 'jervie', 'fuss', 'elnöke', 'eljön', 'elbúcsúztak', 'dolgod', 'csengő', 'bojtár', 'belőlük', 'apját', '4', 'vitézek', 'világvándora', 'vendég', 'ugyanakkor', 'tér', 'teste', 'teli', 'tartottak', 'szólította', 'szóba', 'párja', 'próbált', 'nyisd', 'nevem', 'mélységes', 'másnak', 'miként', 'megértette', 'megváltozott', 'láttad', 'lobbant', 'laktak', 'következtében', 'kiszaladt', 'kincs', 'kezdődik', 'katalint', 'hazajött', 'füvet', 'férfiak', 'frik', 'esztendőt', 'csúf', 'bárányt', 'benneteket', 'benet', 'belsejébe', 'amilyent', 'ölelte', 'értett', 'éjszakán', 'állok', 'ágyú', '«', 'véres', 'vélte', 'veréb', 'vala', 'urát', 'test', 'százszor', 'szerettem', 'szavait', 'reád', 'rakott', 'pokol', 'partot', 'olvasni', 'mérföldre', 'megmutatta', 'megfelelő', 'margit', 'marfa', 'magamnak', 'láthatta', 'kívánsz', 'kép', 'keres', 'kerekedik', 'jég', 'jutottak', 'jelentős', 'igyál', 'hetvenhét', 'harang', 'hangot', 'géza', 'füst', 'férje', 'félelem', 'fákat', 'fedélzetén', 'farkát', 'esztendőre', 'előző', 'egészet', 'dongó', 'csináljanak', 'boldogság', 'beszélnek', 'belőled', 'atyám', 'ama', '3', 'úristen', 'értünk', 'érthetetlen', 'ártatlan', 'ágyba', 'william', 'vidéken', 'táncra', 'tudunk', 'tengerben', 'szóltak', 'szélességi', 'sziklák', 'szibériai', 'szebbnél', 'szabó', 'ruha', 'pincébe', 'olvasta', 'május', 'mult', 'mindegyre', 'megígérte', 'megyen', 'magasba', 'léghajó', 'látjuk', 'lábam', 'lennie', 'lelkét', 'lelki', 'lebegett', 'közöttük', 'közös', 'közelébe', 'kétezer', 'kezdődött', 'keletkezett', 'jankalovics', 'ismételte', 'indulj', 'holdon', 'hatodik', 'használt', 'hagyják', 'gondolkozik', 'forgó', 'ezentúl', 'errefelé', 'egyszóval', 'ebédre', 'dolgom', 'csonka', 'bátyámuram', 'bunda', 'atyafi', 'öröme', 'ígérte', 'élénk', 'ámult', 'állította', 'végét', 'vulkán', 'vezír', 'vegyen', 'tudnék', 'torony', 'terült', 'teremtette', 'tartó', 'tartom', 'szobájában', 'szivem', 'szigetek', 'ruhája', 'rendkívüli', 'pillantást', 'percig', 'napi', 'mondtad', 'majom', 'maguknak', 'magammal', 'légi', 'láttunk', 'lássák', 'levette', 'küldte', 'körülnézett', 'kívánta', 'kérdik', 'kormány', 'kalapot', 'jövök', 'hordó', 'hiszitek', 'győzte', 'gyermekei', 'fújt', 'felöltözött', 'engedje', 'elektromos', 'eleinte', 'dínomdánom', 'diót', 'csóválta', 'csakúgy', 'bírt', 'alkalmas', 'ahelyett', 'ötszáz', 'órára', 'érdemes', 'általános', 'áldja', 'voltaképpen', 'vezet', 'tudjon', 'tojást', 'sötétben', 'sóhajtozott', 'szükségem', 'szemével', 'szarka', 'rólam', 'oldalára', 'naptól', 'mögötte', 'magáról', 'leveleket', 'lehessen', 'legfeljebb', 'leereszkedett', 'kívánok', 'kérdésre', 'korában', 'juh', 'izzó', 'hála', 'hoztak', 'hiányzik', 'hiábavaló', 'hitt', 'helye', 'hatása', 'gyertek', 'gondolni', 'fölséges', 'földközi', 'francis', 'folyón', 'foga', 'emberke', 'emberei', 'elkezdte', 'búsuljon', 'bárány', 'asszonya', 'amott', '15', 'üti', 'örökké', 'értékes', 'vettek', 'valószínű', 'valakit', 'udvari', 'távolság', 'tudnám', 'testvérem', 'sündisznó', 'sárkánynak', 'szélvész', 'sziklás', 'sima', 'semhogy', 'nyomán', 'nemtudomka', 'mindenkit', 'megtartották', 'magadat', 'lábán', 'közepes', 'köszöntötte', 'kárpáti', 'kormányos', 'koporsót', 'kiugrik', 'jóban', 'járó', 'jelezte', 'jajgatott', 'inni', 'ikrek', 'hozzon', 'heves', 'fölfelé', 'férfiú', 'futottak', 'feltétlenül', 'felszínre', 'feljebb', 'erősebben', 'előttünk', 'csudafa', 'columbiad', 'bújt', 'bárki', 'beszédet', 'attila', 'amióta', 'ajtaját', '9', 'évvel', 'éri', 'várból', 'tőlünk', 'tündérkirályné', 'télen', 'tiéd', 'szerelmes', 'szakad', 'sohase', 'rabszolga', 'pszíhe', 'pindófa', 'nézzen', 'nyugodalma', 'mézkirály', 'mérgelődött', 'másikra', 'melyen', 'meglát', 'lettem', 'lapázi', 'képest', 'korcsmáros', 'királyfiú', 'kiabálni', 'kedvem', 'jóságát', 'húzták', 'hosszabb', 'helyette', 'határozottan', 'földjén', 'fiai', 'felvette', 'feküdj', 'falás', 'elvágtatott', 'ellene', 'dugta', 'bőven', 'bús', 'ajánlom', 'aj', 'ablakot', 'újság', 'york', 'városa', 'volnék', 'viszlek', 'továbbmentek', 'tanácsolta', 'találnak', 'tagjai', 'súlya', 'szóltam', 'szélére', 'szerzett', 'szakálla', 'sosem', 'oldalon', 'nézzétek', 'nézik', 'miről', 'megtalálta', 'legyintett', 'kirántotta', 'keresett', 'keményen', 'kecskét', 'játszani', 'irkutszk', 'házhoz', 'harry', 'hagyom', 'gazdáját', 'farkú', 'falusi', 'elváltak', 'elveszett', 'egyforma', 'dollár', 'célba', 'csapta', 'búza', 'augusztus', 'asztalnál', 'akarják', 'abraham', '30', 'írva', 'álmában', 'veszedelmes', 'utcára', 'tökéletesen', 'tulajdonképpen', 'tizennégy', 'titkát', 'tisztában', 'testvérek', 'testvére', 'színes', 'szoros', 'szolgált', 'szobát', 'sugarai', 'réges', 'rendszerint', 'pohár', 'országba', 'olvasó', 'nyaka', 'mindég', 'mindazt', 'miklóst', 'menet', 'lógott', 'lássuk', 'kulcsot', 'kiáltottam', 'kaput', 'kapuján', 'józsi', 'julia', 'italt', 'idáig', 'híján', 'hozok', 'hosszu', 'hosszat', 'haját', 'gyémántos', 'gondoltak', 'gagyi', 'földig', 'fogták', 'fogjuk', 'fenekén', 'falat', 'ezekkel', 'erejű', 'erdők', 'elrepült', 'bánta', 'bot', 'boriska', 'amiért', 'almókus', 'almafa', 'agyon', 'ablakhoz', 'őszintén', 'ébredt', 'árát', 'állapotban', 'ága', 'zsákba', 'zsidó', 'vártak', 'városában', 'tréfa', 'tolvajok', 'tettél', 'szépet', 'szerelem', 'szegfűhajú', 'reggeli', 'próbát', 'pontos', 'odabent', 'mögül', 'mutatja', 'mondva', 'mindegyik', 'mekkora', 'megmutatom', 'megfogja', 'lép', 'lejjebb', 'lehettek', 'legénység', 'legkisebbik', 'lao', 'kútba', 'kíváncsi', 'kétségbeesetten', 'kést', 'kérek', 'képét', 'képtelen', 'kocsisnak', 'királytól', 'khodzsa', 'kevesebb', 'jónás', 'inasnak', 'immár', 'hívatta', 'hétszerte', 'hátú', 'huszonöt', 'homlokát', 'hitvány', 'hazajön', 'hasonlatos', 'harangot', 'gyönge', 'fűben', 'főzött', 'féljen', 'fához', 'fogadták', 'feneketlen', 'felel', 'esemény', 'ennyire', 'engedett', 'disznó', 'csillagvizsgáló', 'bólintott', 'ahonnan', '11', 'érthető', 'életed', 'átadta', 'állandó', 'állam', 'végzett', 'vártam', 'várni', 'vet', 'veszedelem', 'vendégséget', 'valamint', 'ujját', 'tértek', 'tojás', 'tigris', 'teremtőm', 'tehenet', 'szörnyü', 'százéves', 'szálltak', 'szomoru', 'szilárd', 'szervusz', 'szemei', 'rév', 'pillantott', 'nézzük', 'nyomta', 'mígnem', 'mentünk', 'menjek', 'megállította', 'megpróbálom', 'megnyílt', 'matróz', 'magán', 'magasságban', 'lábával', 'legtöbb', 'la', 'könyv', 'királyfiak', 'jóska', 'játék', 'jármű', 'jánoska', 'juhok', 'ijedt', 'időnként', 'húzódott', 'híd', 'hozz', 'holott', 'hazavitte', 'fölkapta', 'fiával', 'felhő', 'falun', 'emiatt', 'elvesztette', 'elsősorban', 'ellátott', 'egyiknek', 'egyben', 'dolgozik', 'borított', 'amellett', 'ambrus', 'alkalommal', 'alapján', 'órán', 'évben', 'érkeztek', 'égitest', 'ágyból', 'ágak', 'visszamegy', 'világra', 'tudnád', 'tengerek', 'talpig', 'szolgál', 'szemet', 'szelíd', 'sors', 'semmire', 'sebesség', 'retek', 'pál', 'próbálja', 'pattant', 'parancsolom', 'oldalát', 'néven', 'nyilvánvaló', 'nevezetes', 'miszlikbe', 'mennem', 'menekült', 'megijedtek', 'meghagyta', 'megették', 'marci', 'macskát', 'létezik', 'lábára', 'lila', 'kövér', 'kezdette', 'keltett', 'kelljen', 'kapitánynak', 'irányában', 'húzza', 'hátizsák', 'hogyhogy', 'hegyre', 'gépet', 'gyorsasággal', 'fért', 'fickó', 'fejjel', 'ezüsttel', 'erie', 'embereknek', 'embere', 'elállt', 'dobta', 'bánt', 'bidulph', 'beszélgettek', 'arthur', 'alkalmat', 'ablakán', '16', 'ősi', 'óránként', 'óráig', 'írtam', 'észrevétlenül', 'égbe', 'ágyban', 'zsiványok', 'zoli', 'völgyön', 'városon', 'vilfridur', 'vidáman', 'tündöklő', 'tudósok', 'titkára', 'templomból', 'szorította', 'szellő', 'szellemek', 'szalonba', 'sovány', 'sorra', 'sietve', 'segítség', 'sajnálom', 'pogácsát', 'nézve', 'nyomát', 'nyomorult', 'március', 'min', 'millió', 'láda', 'levegőégbe', 'lapos', 'küldötte', 'közeledik', 'kutyának', 'kovács', 'kiáltották', 'királyának', 'keresem', 'hátamra', 'hozzák', 'hintót', 'hintón', 'hattyú', 'hall', 'hajtott', 'gépezet', 'gondolod', 'földnek', 'földesúr', 'fénye', 'futó', 'figyelt', 'fergeteg', 'fejszét', 'esős', 'eredeti', 'elémondja', 'elmondott', 'elhatározták', 'duna', 'csináltatott', 'csengett', 'csaba', 'bolygó', 'alma', 'alkalom', 'adnak', '25', '13', 'őrtorony', 'örökös', 'ölte', 'ámbár', 'vígy', 'vágni', 'vizét', 'vita', 'villám', 'vadászok', 'utazott', 'ugyanolyan', 'tégy', 'titok', 'tisztelt', 'teltek', 'tarisznyát', 'találkoztak', 'száján', 'sztrogofnak', 'szolgálatba', 'szoktak', 'pora', 'oh', 'népet', 'nemhogy', 'nagyobbik', 'méghozzá', 'morgon', 'mondanom', 'miklósnak', 'menten', 'mehet', 'megjött', 'megfogadta', 'meddig', 'malac', 'lámpát', 'lehetnek', 'kóró', 'kísérlet', 'kérdezd', 'járok', 'istván', 'inget', 'hozni', 'hipp', 'hajónk', 'hagyjuk', 'feleségéhez', 'estefelé', 'esetén', 'csudaszép', 'csillagos', 'cet', 'bántotta', 'bánatában', 'beszélek', 'angara', 'amivel', 'amilyet', 'örültek', 'órában', 'ígért', 'érkezik', 'érette', 'áttentő', 'várjatok', 'verték', 'vacsorára', 'szótlanul', 'szeretne', 'szeptember', 'szedte', 'szedett', 'sen', 'salamon', 'róza', 'nyári', 'nagyságú', 'muzsika', 'mindenestül', 'megtörtént', 'megrázta', 'megharagudott', 'matrózok', 'magaddal', 'lónak', 'lovas', 'lelkű', 'közeli', 'könnyebben', 'kényelmes', 'klub', 'kinyílt', 'kedvesen', 'karja', 'istéfán', 'ismered', 'irányt', 'ijedtében', 'húzd', 'hívnak', 'hamarább', 'gőzös', 'gyertyát', 'gyermekkel', 'fölvette', 'florida', 'felség', 'felpattant', 'felemelte', 'esznek', 'ereszd', 'emberhez', 'elszomorodott', 'egyenlő', 'ebédet', 'délre', 'dolgoztak', 'darabot', 'csillagokat', 'cambridge', 'bánod', 'bika', 'beszélhetett', 'anyád', 'alekszander', 'alacsony', 'értelme', 'véle', 'végképp', 'várkastély', 'vágtattak', 'visszajött', 'viselt', 'vetni', 'versenyt', 'uri', 'tündérkisasszony', 'törvény', 'töltött', 'többen', 'további', 'tekintettel', 'tekintett', 'tartozott', 'sátor', 'szüntelenül', 'szájába', 'szaladni', 'sebességét', 'sebességet', 'sapkát', 'pénzét', 'perzsa', 'olt', 'nautilust', 'mérges', 'másiknak', 'mindaddig', 'megölelte', 'megtelt', 'magadra', 'madárka', 'levelét', 'lelkére', 'lehető', 'legerősebb', 'laknak', 'kéne', 'kulcs', 'kevéssé', 'keresek', 'jőnek', 'jöjjenek', 'jusson', 'jerusha', 'iszik', 'hídon', 'holdnak', 'hiányzott', 'hazug', 'hanyatt', 'földjére', 'földje', 'féle', 'forint', 'feléjük', 'fejed', 'ette', 'ennivalót', 'elmondotta', 'elmondom', 'egyék', 'egykori', 'dolgát', 'dolgok', 'csodálkozva', 'csodaszép', 'bizonyult', 'biró', 'beszélve', 'basa', 'baróthy', 'barátai', 'örvendezett', 'órák', 'óceánon', 'élesen', 'éjen', 'édesapja', 'végy', 'veti', 'vetettek', 'valakinek', 'utasai', 'ugrik', 'tűntek', 'tömlöcbe', 'tupakka', 'tizenkettőt', 'tizenkettő', 'tetejéről', 'tanácsát', 'szárnya', 'szeszélyes', 'szerették', 'szerencséje', 'szemlátomást', 'szelet', 'segítek', 'sally', 'sajnálta', 'róluk', 'rablók', 'pálinkós', 'pali', 'orgall', 'oldalról', 'okozott', 'odaért', 'német', 'négyen', 'nyomában', 'nehezebb', 'nan', 'nagyharang', 'mindenáron', 'menyasszony', 'megérkezik', 'megkérte', 'lefekszik', 'közvetlenül', 'közrefogták', 'kezemet', 'kettőnek', 'kerülsz', 'kegyetlen', 'kapcsolatban', 'kalácsot', 'indulás', 'héten', 'hidd', 'halsz', 'gondolok', 'földjét', 'féltem', 'fenyegette', 'fejezte', 'fejbe', 'essék', 'engedd', 'egerecske', 'bújj', 'bólogatott', 'arcán', 'akivel', 'ajánlotta', '”', 'önkéntelen', 'ölébe', 'óriást', 'érzés', 'április', 'ágya', 'á', 'zengő', 'vonta', 'varjú', 'valódi', 'utol', 'urat', 'térdig', 'továbbá', 'titeket', 'testvérei', 'tavaszi', 'tartják', 'sírj', 'szépek', 'szigetet', 'segítségére', 'segít', 'sarkában', 'rész', 'remek', 'parancs', 'okát', 'nyika', 'nyelven', 'nye', 'nek', 'napjáig', 'mosoly', 'miss', 'mennél', 'megtudták', 'megegyeztek', 'láttuk', 'lánya', 'közölte', 'közvetlen', 'követték', 'köd', 'kápolna', 'kié', 'kerekedtek', 'kemencébe', 'katonái', 'kardjával', 'jin', 'jelt', 'hívja', 'hátul', 'hatolt', 'haragjában', 'hajtja', 'fölébredt', 'folyam', 'figyelmesen', 'felém', 'fedélzet', 'ezredes', 'esteledett', 'eredt', 'emelkedő', 'egymagában', 'egyenként', 'egerek', 'darvitéz', 'csinos', 'bukkant', 'boszorkányt', 'bat', 'azé', 'azonos', 'apjuk', 'amerikában', 'őrült', 'őrizte', 'ülni', 'óriások', 'évek', 'égnek', 'álomba', 'állnak', 'zárt', 'zsuzska', 'zaj', 'wells', 'veszett', 'valót', 'valamikor', 'valamennyit', 'tündökölt', 'tál', 'tágas', 'tisztelettel', 'tetőre', 'tetőn', 'tengerfenéken', 'találok', 'sírással', 'sírni', 'színén', 'szivvel', 'szemüket', 'szemére', 'sejtette', 'rémület', 'rend', 'péternek', 'orfanik', 'nézegette', 'máskülönben', 'mutasd', 'morgott', 'mondottam', 'minduntalan', 'meteor', 'mehetsz', 'megismerte', 'maradtam', 'magunkat', 'magadnak', 'látvány', 'lováról', 'levele', 'lemászott', 'közülük', 'közeledtek', 'környék', 'könnyhullatások', 'kicsordult', 'kezedbe', 'kezdi', 'kerülnek', 'kerék', 'kereskedők', 'kedvéért', 'katalinnak', 'javában', 'illik', 'hús', 'húgom', 'holmi', 'hetvenhetedik', 'haladtunk', 'gazdájának', 'fán', 'fregatt', 'folyik', 'folyamán', 'fenyegető', 'felvetette', 'február', 'fatime', 'fakadt', 'európa', 'eszel', 'estek', 'elmondani', 'elevenen', 'elaludtak', 'csönd', 'csekély', 'cromarty', 'behunyta', 'bajban', 'annyian', 'aludj', '7', 'üveget', 'üljön', 'ügy', 'útján', 'öltözött', 'érdekel', 'éj', 'ámisz', 'zarándok', 'x', 'völgy', 'várjon', 'vállalkozás', 'villamos', 'vigasztalta']\n"
     ]
    }
   ],
   "source": [
    "print(weights)\n",
    "print(vocab)"
   ]
  }
 ],
 "metadata": {
  "colab": {
   "collapsed_sections": [],
   "name": "Word2Vec.ipynb",
   "provenance": []
  },
  "kernelspec": {
   "display_name": "Python 3",
   "language": "python",
   "name": "python3"
  },
  "language_info": {
   "codemirror_mode": {
    "name": "ipython",
    "version": 3
   },
   "file_extension": ".py",
   "mimetype": "text/x-python",
   "name": "python",
   "nbconvert_exporter": "python",
   "pygments_lexer": "ipython3",
   "version": "3.8.5"
  }
 },
 "nbformat": 4,
 "nbformat_minor": 1
}
