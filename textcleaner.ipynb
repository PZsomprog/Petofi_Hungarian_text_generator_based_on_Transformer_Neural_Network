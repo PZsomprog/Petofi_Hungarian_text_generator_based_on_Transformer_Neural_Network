{
 "cells": [
  {
   "cell_type": "markdown",
   "metadata": {},
   "source": [
    "This program reads in the aggregated data file and modifies it with using dictionaries"
   ]
  },
  {
   "cell_type": "markdown",
   "metadata": {},
   "source": [
    "0. Reading in the pervious made, combined file"
   ]
  },
  {
   "cell_type": "code",
   "execution_count": 1,
   "metadata": {},
   "outputs": [],
   "source": [
    "#readnig in the combined file\n",
    "with open('inputs/combinedtext/combinedalldata.txt', 'r',encoding='utf-8') as fp: \n",
    "    combinedalldata = fp.read() \n",
    "#print(dataossz)"
   ]
  },
  {
   "cell_type": "markdown",
   "metadata": {},
   "source": [
    "1. solve all abbreviations #there will be only puncts there, where it is an end of sentence"
   ]
  },
  {
   "cell_type": "code",
   "execution_count": 2,
   "metadata": {
    "scrolled": false
   },
   "outputs": [],
   "source": [
    "#load the abbreviations dictionarie and build a python dictionary\n",
    "abbreviationsdict = dict() #make an empty dict\n",
    "with open('inputs/dictionaries/abbreviations.txt', 'r',encoding='utf-8') as fp: \n",
    "    next(fp) #skip the first line because there are the instructions\n",
    "    for line in fp:\n",
    "        wordsarray = line.split('=')\n",
    "        abbreviationsdict[wordsarray[0]] = wordsarray[1][:-1] #\\n minus\n",
    "\n",
    "        \n",
    "combinedalldatawithoutabbreviations=combinedalldata\n",
    "\n",
    "i=0            \n",
    "while i<len(abbreviationsdict):\n",
    "    combinedalldatawithoutabbreviations=combinedalldatawithoutabbreviations.replace(list(abbreviationsdict.keys())[i],list(abbreviationsdict.values())[i])\n",
    "    i=i+1\n",
    "    \n",
    "#elements of dict    \n",
    "# list(roviditesszotar.keys())[1]\n",
    "# list(roviditesszotar.items())[1] \n"
   ]
  },
  {
   "cell_type": "code",
   "execution_count": 3,
   "metadata": {},
   "outputs": [],
   "source": [
    "with open('outputs/preprocess/combdatwithoutabbr.txt','w',encoding='utf-8') as output:\n",
    "    output.write(combinedalldatawithoutabbreviations)"
   ]
  },
  {
   "cell_type": "code",
   "execution_count": null,
   "metadata": {},
   "outputs": [],
   "source": []
  },
  {
   "cell_type": "markdown",
   "metadata": {},
   "source": [
    "\n",
    "3. delete all spaces before \\n-s or delete all douple \\n-s "
   ]
  },
  {
   "cell_type": "code",
   "execution_count": 4,
   "metadata": {},
   "outputs": [],
   "source": [
    "combinedalldatawithoutparagraphs=combinedalldatawithoutabbreviations\n",
    "i=0\n",
    "while(i<100):\n",
    "    combinedalldatawithoutparagraphs=combinedalldatawithoutparagraphs.replace(' \\n','\\n')\n",
    "    combinedalldatawithoutparagraphs=combinedalldatawithoutparagraphs.replace('\\n\\n','\\n')\n",
    "    i=i+1"
   ]
  },
  {
   "cell_type": "code",
   "execution_count": 5,
   "metadata": {},
   "outputs": [],
   "source": [
    "with open('outputs/preprocess/combdatwithoutparag.txt','w',encoding='utf-8') as output:\n",
    "    output.write(combinedalldatawithoutparagraphs)"
   ]
  },
  {
   "cell_type": "code",
   "execution_count": null,
   "metadata": {},
   "outputs": [],
   "source": []
  },
  {
   "cell_type": "markdown",
   "metadata": {},
   "source": [
    "4. search and repleace .-s to <pont> \n",
    "    goals: each snetence to different raw\n",
    "    technik: 1 find .  check if after2character of . if it is capital 3 if yes check if the caracter after. is \\n if not->change \n",
    "    (i dont change every . to <pont> here because later I will be able to find the \"wrong ones which are not end of sentence neither abbrevation"
   ]
  },
  {
   "cell_type": "code",
   "execution_count": 6,
   "metadata": {},
   "outputs": [],
   "source": [
    "#the function tho change caracters in string\n",
    "def replace_str_index(text,index=0,replacement=''):\n",
    "    return '%s%s%s'%(text[:index],replacement,text[index+1:])"
   ]
  },
  {
   "cell_type": "code",
   "execution_count": 7,
   "metadata": {},
   "outputs": [],
   "source": [
    "#loading bar function\n",
    "from __future__ import print_function\n",
    "import sys\n",
    "import re\n",
    "\n",
    "\n",
    "class ProgressBar(object):\n",
    "    DEFAULT = 'Progress: %(bar)s %(percent)3d%%'\n",
    "    FULL = '%(bar)s %(current)d/%(total)d (%(percent)3d%%) %(remaining)d to go'\n",
    "\n",
    "    def __init__(self, total, width=40, fmt=DEFAULT, symbol='=',\n",
    "                 output=sys.stderr):\n",
    "        assert len(symbol) == 1\n",
    "\n",
    "        self.total = total\n",
    "        self.width = width\n",
    "        self.symbol = symbol\n",
    "        self.output = output\n",
    "        self.fmt = re.sub(r'(?P<name>%\\(.+?\\))d',\n",
    "            r'\\g<name>%dd' % len(str(total)), fmt)\n",
    "\n",
    "        self.current = 0\n",
    "\n",
    "    def __call__(self):\n",
    "        percent = self.current / float(self.total)\n",
    "        size = int(self.width * percent)\n",
    "        remaining = self.total - self.current\n",
    "        bar = '[' + self.symbol * size + ' ' * (self.width - size) + ']'\n",
    "\n",
    "        args = {\n",
    "            'total': self.total,\n",
    "            'bar': bar,\n",
    "            'current': self.current,\n",
    "            'percent': percent * 100,\n",
    "            'remaining': remaining\n",
    "        }\n",
    "        print('\\r' + self.fmt % args, file=self.output, end='')\n",
    "\n",
    "    def done(self):\n",
    "        self.current = self.total\n",
    "        self()\n",
    "        print('', file=self.output)"
   ]
  },
  {
   "cell_type": "code",
   "execution_count": 11,
   "metadata": {},
   "outputs": [],
   "source": [
    "cadsentenceinnewline=combinedalldatawithoutparagraphs"
   ]
  },
  {
   "cell_type": "code",
   "execution_count": null,
   "metadata": {},
   "outputs": [],
   "source": []
  },
  {
   "cell_type": "code",
   "execution_count": null,
   "metadata": {},
   "outputs": [],
   "source": []
  },
  {
   "cell_type": "code",
   "execution_count": null,
   "metadata": {},
   "outputs": [],
   "source": []
  },
  {
   "cell_type": "code",
   "execution_count": 26,
   "metadata": {},
   "outputs": [
    {
     "name": "stderr",
     "output_type": "stream",
     "text": [
      "\r",
      "[                                        ]    11607/16936814 (  0%) 16925207 to go\r",
      "[                                        ]    23316/16936814 (  0%) 16913498 to go\r",
      "[                                        ]    35244/16936814 (  0%) 16901570 to go\r",
      "[                                        ]    45774/16936814 (  0%) 16891040 to go\r",
      "[                                        ]    65218/16936814 (  0%) 16871596 to go\r",
      "[                                        ]    76650/16936814 (  0%) 16860164 to go\r",
      "[                                        ]    88392/16936814 (  0%) 16848422 to go\r",
      "[                                        ]   102877/16936814 (  0%) 16833937 to go\r",
      "[                                        ]   116647/16936814 (  0%) 16820167 to go\r",
      "[                                        ]   126788/16936814 (  0%) 16810026 to go\r",
      "[                                        ]   137332/16936814 (  0%) 16799482 to go\r",
      "[                                        ]   148522/16936814 (  0%) 16788292 to go\r",
      "[                                        ]   159738/16936814 (  0%) 16777076 to go\r",
      "[                                        ]   169875/16936814 (  1%) 16766939 to go\r",
      "[                                        ]   180578/16936814 (  1%) 16756236 to go\r",
      "[                                        ]   192877/16936814 (  1%) 16743937 to go\r",
      "[                                        ]   203228/16936814 (  1%) 16733586 to go\r",
      "[                                        ]   213337/16936814 (  1%) 16723477 to go\r",
      "[                                        ]   223360/16936814 (  1%) 16713454 to go\r",
      "[                                        ]   233487/16936814 (  1%) 16703327 to go\r",
      "[                                        ]   243556/16936814 (  1%) 16693258 to go\r",
      "[                                        ]   253605/16936814 (  1%) 16683209 to go\r",
      "[                                        ]   264881/16936814 (  1%) 16671933 to go\r",
      "[                                        ]   275148/16936814 (  1%) 16661666 to go\r",
      "[                                        ]   285509/16936814 (  1%) 16651305 to go\r",
      "[                                        ]   295772/16936814 (  1%) 16641042 to go\r",
      "[                                        ]   306877/16936814 (  1%) 16629937 to go\r",
      "[                                        ]   317537/16936814 (  1%) 16619277 to go\r",
      "[                                        ]   327614/16936814 (  1%) 16609200 to go\r",
      "[                                        ]   340700/16936814 (  2%) 16596114 to go\r",
      "[                                        ]   350809/16936814 (  2%) 16586005 to go\r",
      "[                                        ]   361975/16936814 (  2%) 16574839 to go\r",
      "[                                        ]   372058/16936814 (  2%) 16564756 to go\r",
      "[                                        ]   384287/16936814 (  2%) 16552527 to go\r",
      "[                                        ]   394338/16936814 (  2%) 16542476 to go\r",
      "[                                        ]   404396/16936814 (  2%) 16532418 to go\r",
      "[                                        ]   415797/16936814 (  2%) 16521017 to go\r",
      "[=                                       ]   426206/16936814 (  2%) 16510608 to go\r",
      "[=                                       ]   437518/16936814 (  2%) 16499296 to go\r",
      "[=                                       ]   448096/16936814 (  2%) 16488718 to go\r",
      "[=                                       ]   458151/16936814 (  2%) 16478663 to go\r",
      "[=                                       ]   469941/16936814 (  2%) 16466873 to go\r",
      "[=                                       ]   481571/16936814 (  2%) 16455243 to go\r",
      "[=                                       ]   491621/16936814 (  2%) 16445193 to go\r",
      "[=                                       ]   501637/16936814 (  2%) 16435177 to go\r",
      "[=                                       ]   512933/16936814 (  3%) 16423881 to go\r",
      "[=                                       ]   523161/16936814 (  3%) 16413653 to go\r",
      "[=                                       ]   535521/16936814 (  3%) 16401293 to go\r",
      "[=                                       ]   545589/16936814 (  3%) 16391225 to go\r",
      "[=                                       ]   557041/16936814 (  3%) 16379773 to go\r",
      "[=                                       ]   589903/16936814 (  3%) 16346911 to go\r",
      "[=                                       ]   599924/16936814 (  3%) 16336890 to go\r",
      "[=                                       ]   613514/16936814 (  3%) 16323300 to go\r",
      "[=                                       ]   623556/16936814 (  3%) 16313258 to go\r",
      "[=                                       ]   635789/16936814 (  3%) 16301025 to go\r",
      "[=                                       ]   650314/16936814 (  3%) 16286500 to go\r",
      "[=                                       ]   661770/16936814 (  3%) 16275044 to go\r",
      "[=                                       ]   672022/16936814 (  3%) 16264792 to go\r",
      "[=                                       ]   682563/16936814 (  4%) 16254251 to go\r",
      "[=                                       ]   692592/16936814 (  4%) 16244222 to go\r",
      "[=                                       ]   702986/16936814 (  4%) 16233828 to go\r",
      "[=                                       ]   713772/16936814 (  4%) 16223042 to go\r",
      "[=                                       ]   724144/16936814 (  4%) 16212670 to go\r",
      "[=                                       ]   736205/16936814 (  4%) 16200609 to go\r",
      "[=                                       ]   746271/16936814 (  4%) 16190543 to go\r",
      "[=                                       ]   758352/16936814 (  4%) 16178462 to go\r",
      "[=                                       ]   768458/16936814 (  4%) 16168356 to go\r",
      "[=                                       ]   778627/16936814 (  4%) 16158187 to go\r",
      "[=                                       ]   789206/16936814 (  4%) 16147608 to go\r",
      "[=                                       ]   800222/16936814 (  4%) 16136592 to go\r",
      "[=                                       ]   811325/16936814 (  4%) 16125489 to go\r",
      "[=                                       ]   829648/16936814 (  4%) 16107166 to go\r",
      "[=                                       ]   839660/16936814 (  4%) 16097154 to go\r",
      "[==                                      ]   853515/16936814 (  5%) 16083299 to go\r",
      "[==                                      ]   867326/16936814 (  5%) 16069488 to go\r",
      "[==                                      ]   877359/16936814 (  5%) 16059455 to go\r",
      "[==                                      ]   887941/16936814 (  5%) 16048873 to go\r",
      "[==                                      ]   903315/16936814 (  5%) 16033499 to go\r",
      "[==                                      ]   914991/16936814 (  5%) 16021823 to go\r",
      "[==                                      ]   930905/16936814 (  5%) 16005909 to go\r",
      "[==                                      ]   944950/16936814 (  5%) 15991864 to go\r",
      "[==                                      ]   958633/16936814 (  5%) 15978181 to go\r",
      "[==                                      ]   968844/16936814 (  5%) 15967970 to go\r",
      "[==                                      ]   978896/16936814 (  5%) 15957918 to go\r",
      "[==                                      ]   988941/16936814 (  5%) 15947873 to go\r",
      "[==                                      ]   998972/16936814 (  5%) 15937842 to go\r",
      "[==                                      ]  1013166/16936814 (  5%) 15923648 to go\r",
      "[==                                      ]  1023533/16936814 (  6%) 15913281 to go\r",
      "[==                                      ]  1034924/16936814 (  6%) 15901890 to go\r",
      "[==                                      ]  1054981/16936814 (  6%) 15881833 to go\r",
      "[==                                      ]  1065158/16936814 (  6%) 15871656 to go\r",
      "[==                                      ]  1076452/16936814 (  6%) 15860362 to go\r",
      "[==                                      ]  1086611/16936814 (  6%) 15850203 to go\r",
      "[==                                      ]  1098350/16936814 (  6%) 15838464 to go\r",
      "[==                                      ]  1108853/16936814 (  6%) 15827961 to go\r",
      "[==                                      ]  1118934/16936814 (  6%) 15817880 to go\r",
      "[==                                      ]  1130057/16936814 (  6%) 15806757 to go\r",
      "[==                                      ]  1140846/16936814 (  6%) 15795968 to go\r",
      "[==                                      ]  1151754/16936814 (  6%) 15785060 to go\r",
      "[==                                      ]  1161912/16936814 (  6%) 15774902 to go\r",
      "[==                                      ]  1172035/16936814 (  6%) 15764779 to go\r",
      "[==                                      ]  1182675/16936814 (  6%) 15754139 to go\r",
      "[==                                      ]  1192956/16936814 (  7%) 15743858 to go\r",
      "[==                                      ]  1204012/16936814 (  7%) 15732802 to go\r",
      "[==                                      ]  1214620/16936814 (  7%) 15722194 to go\r",
      "[==                                      ]  1224703/16936814 (  7%) 15712111 to go\r",
      "[==                                      ]  1234758/16936814 (  7%) 15702056 to go\r",
      "[==                                      ]  1245120/16936814 (  7%) 15691694 to go\r",
      "[==                                      ]  1255495/16936814 (  7%) 15681319 to go\r",
      "[==                                      ]  1265748/16936814 (  7%) 15671066 to go\r",
      "[===                                     ]  1276532/16936814 (  7%) 15660282 to go"
     ]
    },
    {
     "name": "stderr",
     "output_type": "stream",
     "text": [
      "[=========================================] 17641656/16936814 (104%)  -704842 to go"
     ]
    },
    {
     "ename": "IndexError",
     "evalue": "string index out of range",
     "output_type": "error",
     "traceback": [
      "\u001b[0;31m---------------------------------------------------------------------------\u001b[0m",
      "\u001b[0;31mIndexError\u001b[0m                                Traceback (most recent call last)",
      "\u001b[0;32m<ipython-input-26-10f0ab6a4676>\u001b[0m in \u001b[0;36m<module>\u001b[0;34m\u001b[0m\n\u001b[1;32m     17\u001b[0m         \u001b[0mprogress\u001b[0m\u001b[0;34m(\u001b[0m\u001b[0;34m)\u001b[0m\u001b[0;34m\u001b[0m\u001b[0;34m\u001b[0m\u001b[0m\n\u001b[1;32m     18\u001b[0m     \u001b[0;31m#check if the 2. after . is capital\u001b[0m\u001b[0;34m\u001b[0m\u001b[0;34m\u001b[0m\u001b[0;34m\u001b[0m\u001b[0m\n\u001b[0;32m---> 19\u001b[0;31m     \u001b[0;32mwhile\u001b[0m\u001b[0;34m(\u001b[0m\u001b[0mcadsentenceinnewline\u001b[0m\u001b[0;34m[\u001b[0m\u001b[0mindex\u001b[0m\u001b[0;34m+\u001b[0m\u001b[0;36m2\u001b[0m\u001b[0;34m]\u001b[0m\u001b[0;34m.\u001b[0m\u001b[0misupper\u001b[0m\u001b[0;34m(\u001b[0m\u001b[0;34m)\u001b[0m \u001b[0;32mor\u001b[0m \u001b[0mcadsentenceinnewline\u001b[0m\u001b[0;34m[\u001b[0m\u001b[0mindex\u001b[0m\u001b[0;34m+\u001b[0m\u001b[0;36m2\u001b[0m\u001b[0;34m]\u001b[0m\u001b[0;34m==\u001b[0m\u001b[0;34m'('\u001b[0m\u001b[0;34m)\u001b[0m\u001b[0;34m:\u001b[0m\u001b[0;34m\u001b[0m\u001b[0;34m\u001b[0m\u001b[0m\n\u001b[0m\u001b[1;32m     20\u001b[0m         \u001b[0;31m#if yes ->it is end of sentence\u001b[0m\u001b[0;34m\u001b[0m\u001b[0;34m\u001b[0m\u001b[0;34m\u001b[0m\u001b[0m\n\u001b[1;32m     21\u001b[0m         \u001b[0;31m#is there \\n after . ?\u001b[0m\u001b[0;34m\u001b[0m\u001b[0;34m\u001b[0m\u001b[0;34m\u001b[0m\u001b[0m\n",
      "\u001b[0;31mIndexError\u001b[0m: string index out of range"
     ]
    }
   ],
   "source": [
    "#find places of points\n",
    "\n",
    "progress=ProgressBar(len(cadsentenceinnewline),fmt=ProgressBar.FULL)\n",
    "index=0\n",
    "iold=0\n",
    "progress.current=0\n",
    "while(cadsentenceinnewline.find('.', index+1)>0):\n",
    "#     progress.current += 1\n",
    "#     progress()\n",
    "    index=cadsentenceinnewline.find('.',index+1)\n",
    " #   print(index)\n",
    " #   print(bekezdesfeloldottossz[index])\n",
    "    \n",
    "    if(index>(10000+iold)) :\n",
    "        iold=index\n",
    "        progress.current = index\n",
    "        progress()\n",
    "    #check if the 2. after . is capital\n",
    "    while(cadsentenceinnewline[index+2].isupper() or cadsentenceinnewline[index+2]=='('):\n",
    "        #if yes ->it is end of sentence \n",
    "        #is there \\n after . ?\n",
    "        if(cadsentenceinnewline[index+1]=='\\n'):\n",
    "            cadsentenceinnewline=replace_str_index(cadsentenceinnewline,index,' <pont>')\n",
    "            break\n",
    "        #if the caracter is not \\n but space ill change it and breakit into newline \n",
    "        elif(cadsentenceinnewline[index+1]==' '):\n",
    "            cadsentenceinnewline=replace_str_index(cadsentenceinnewline,index+1,'\\n')\n",
    "            cadsentenceinnewline=replace_str_index(cadsentenceinnewline,index,' <pont>')\n",
    "            break\n",
    "        else:\n",
    "#             print(\"oops, I dont kow what does this point mean\" + ' ' + str(index))\n",
    "            break\n"
   ]
  },
  {
   "cell_type": "code",
   "execution_count": null,
   "metadata": {},
   "outputs": [],
   "source": [
    "#cadsentenceinnewline"
   ]
  },
  {
   "cell_type": "code",
   "execution_count": 29,
   "metadata": {},
   "outputs": [],
   "source": [
    "progress.current=0\n",
    "with open('outputs/preprocess/cadsentenceinnewline.txt','w',encoding='utf-8') as output:\n",
    "    output.write(cadsentenceinnewline)"
   ]
  },
  {
   "cell_type": "code",
   "execution_count": null,
   "metadata": {},
   "outputs": [],
   "source": []
  },
  {
   "cell_type": "markdown",
   "metadata": {},
   "source": [
    "5. change words with dict 2"
   ]
  },
  {
   "cell_type": "code",
   "execution_count": 30,
   "metadata": {},
   "outputs": [],
   "source": [
    "#load and create dict \n",
    "\n",
    "punctdict = dict() #emptydict\n",
    "with open('inputs/dictionaries//punctuations.txt', 'r',encoding='utf-8') as fp: \n",
    "    next(fp) #skip the first line because there are the instructions\n",
    "    for line in fp:\n",
    "        wordsarray = line.split('=')\n",
    "        punctdict[wordsarray[0]] = wordsarray[1][:-1] #minus \\n\n",
    "        \n",
    "cadwordschanged=cadsentenceinnewline\n",
    "\n",
    "i=0            \n",
    "while i<len(punctdict):\n",
    "    cadwordschanged=cadwordschanged.replace(list(punctdict.keys())[i],list(punctdict.values())[i])\n",
    "    i=i+1\n",
    "    "
   ]
  },
  {
   "cell_type": "code",
   "execution_count": 31,
   "metadata": {},
   "outputs": [
    {
     "data": {
      "text/plain": [
       "{'-': ' <kötõjel> ',\n",
       " ',': ' <vesszõ> ',\n",
       " ':': ' <kettõspont> ',\n",
       " '(': ' <zárójelnyit> ',\n",
       " ')': ' <zárójelzár> ',\n",
       " '.': ' <pont> ',\n",
       " '*': ' ',\n",
       " '?': ' <kérdőjel>'}"
      ]
     },
     "execution_count": 31,
     "metadata": {},
     "output_type": "execute_result"
    }
   ],
   "source": [
    "punctdict"
   ]
  },
  {
   "cell_type": "code",
   "execution_count": null,
   "metadata": {},
   "outputs": [],
   "source": []
  },
  {
   "cell_type": "markdown",
   "metadata": {},
   "source": [
    "6. make all letters low"
   ]
  },
  {
   "cell_type": "code",
   "execution_count": 32,
   "metadata": {},
   "outputs": [],
   "source": [
    "cadlowletter=cadwordschanged.lower()"
   ]
  },
  {
   "cell_type": "code",
   "execution_count": 34,
   "metadata": {},
   "outputs": [],
   "source": [
    "with open('outputs/preprocess/cadlowletter.txt','w',encoding='utf-8') as output:\n",
    "    output.write(cadlowletter)"
   ]
  },
  {
   "cell_type": "code",
   "execution_count": null,
   "metadata": {},
   "outputs": [],
   "source": []
  },
  {
   "cell_type": "code",
   "execution_count": null,
   "metadata": {},
   "outputs": [],
   "source": []
  },
  {
   "cell_type": "markdown",
   "metadata": {},
   "source": [
    "4 save"
   ]
  },
  {
   "cell_type": "code",
   "execution_count": 35,
   "metadata": {},
   "outputs": [],
   "source": [
    "with open('outputs/endoutput/prepareddata.txt','w',encoding='utf-8') as output:\n",
    "    output.write(cadlowletter)"
   ]
  },
  {
   "cell_type": "code",
   "execution_count": null,
   "metadata": {},
   "outputs": [],
   "source": []
  },
  {
   "cell_type": "code",
   "execution_count": null,
   "metadata": {},
   "outputs": [],
   "source": []
  },
  {
   "cell_type": "markdown",
   "metadata": {},
   "source": [
    "tokenise to words\n",
    "and\n",
    "delete repetative words if repeating 3 times next to eachother"
   ]
  },
  {
   "cell_type": "code",
   "execution_count": 36,
   "metadata": {},
   "outputs": [],
   "source": [
    "with open('outputs/endoutput/prepareddata.txt', 'r',encoding='utf-8') as fp: \n",
    "    tokenisator = fp.read() "
   ]
  },
  {
   "cell_type": "code",
   "execution_count": 37,
   "metadata": {},
   "outputs": [],
   "source": [
    "tokenisator=tokenisator.split()"
   ]
  },
  {
   "cell_type": "code",
   "execution_count": 38,
   "metadata": {},
   "outputs": [
    {
     "data": {
      "text/plain": [
       "3182908"
      ]
     },
     "execution_count": 38,
     "metadata": {},
     "output_type": "execute_result"
    }
   ],
   "source": [
    "len(tokenisator)"
   ]
  },
  {
   "cell_type": "code",
   "execution_count": 39,
   "metadata": {},
   "outputs": [
    {
     "name": "stderr",
     "output_type": "stream",
     "text": [
      "[======================================  ] 3100000/3182908 ( 97%)   82908 to go"
     ]
    }
   ],
   "source": [
    "progress=ProgressBar(len(tokenisator),fmt=ProgressBar.FULL)\n",
    "progress.current =0\n",
    "i=0\n",
    "iold=0\n",
    "while( i < len(tokenisator)-3) : \n",
    "    #print(i)\n",
    "    if(tokenisator[i]==tokenisator[i+1]==tokenisator[i+2]): #if repetative 3 \n",
    "        del tokenisator[i]\n",
    "    i=i+1\n",
    "    if(i>(100000+iold)) :\n",
    "        #print(i)\n",
    "        iold=i\n",
    "     #   print(iold)\n",
    "        progress.current += 100000\n",
    "        progress()\n",
    "        \n",
    "        "
   ]
  },
  {
   "cell_type": "code",
   "execution_count": 40,
   "metadata": {},
   "outputs": [],
   "source": [
    "with open(\"outputs/endoutput/tokenisedtowords.txt\", \"w\") as outfile:\n",
    "    outfile.write(\"\\n\".join(str(item) for item in tokenisator))\n",
    "    \n",
    "#     with open(\"outfile\", \"w\") as outfile:\n",
    "#     outfile.write(\"\\n\".join(itemlist))\n",
    "\n"
   ]
  },
  {
   "cell_type": "markdown",
   "metadata": {},
   "source": [
    "build \n",
    "train\n",
    "valid\n",
    "test\n",
    "database\n",
    "(70-20-10%)\n",
    "It is enough to cut only, because the texts were randomised by the merging phase"
   ]
  },
  {
   "cell_type": "code",
   "execution_count": 41,
   "metadata": {},
   "outputs": [],
   "source": [
    "databasetrain=tokenisator[0:int(len(tokenisator)*0.7)] #cut the word list at 0-70%\n",
    "databasevalid=tokenisator[int(len(tokenisator)*0.7):int(len(tokenisator)*0.9)] #cut the word list at 70%-90%\n",
    "databasetest=tokenisator[int(len(tokenisator)*0.9):] #cut the word list at 90%-"
   ]
  },
  {
   "cell_type": "code",
   "execution_count": 42,
   "metadata": {},
   "outputs": [],
   "source": [
    "with open(\"outputs/endoutput/databasetrain.txt\", \"w\") as outfile:\n",
    "    outfile.write(\"\\n\".join(str(item) for item in databasetrain))\n",
    "    \n",
    "with open(\"outputs/endoutput/databasevalid.txt\", \"w\") as outfile:\n",
    "    outfile.write(\"\\n\".join(str(item) for item in databasevalid))\n",
    "    \n",
    "with open(\"outputs/endoutput/databasetest.txt\", \"w\") as outfile:\n",
    "    outfile.write(\"\\n\".join(str(item) for item in databasetest))"
   ]
  },
  {
   "cell_type": "code",
   "execution_count": null,
   "metadata": {},
   "outputs": [],
   "source": []
  },
  {
   "cell_type": "code",
   "execution_count": null,
   "metadata": {},
   "outputs": [],
   "source": []
  }
 ],
 "metadata": {
  "kernelspec": {
   "display_name": "Python 3",
   "language": "python",
   "name": "python3"
  },
  "language_info": {
   "codemirror_mode": {
    "name": "ipython",
    "version": 3
   },
   "file_extension": ".py",
   "mimetype": "text/x-python",
   "name": "python",
   "nbconvert_exporter": "python",
   "pygments_lexer": "ipython3",
   "version": "3.8.3"
  }
 },
 "nbformat": 4,
 "nbformat_minor": 4
}
