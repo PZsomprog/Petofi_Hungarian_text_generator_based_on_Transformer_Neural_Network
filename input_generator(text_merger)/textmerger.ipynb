{
 "cells": [
  {
   "cell_type": "markdown",
   "metadata": {},
   "source": [
    "reencoding(if needed"
   ]
  },
  {
   "cell_type": "code",
   "execution_count": 3,
   "metadata": {},
   "outputs": [],
   "source": [
    "#utf16 to utf8\n",
    "# #-*-coding:utf-16-*-\n",
    "# with open('anonimCT1493.txt', 'r',encoding='utf-16') as fp: \n",
    "#     data1 = fp.read() \n",
    "# #print(data1)\n",
    "\n",
    "# data1utf8=data1.encode('utf-8')\n",
    "# data1utf8=data1utf8.decode('utf-8')\n",
    "\n",
    "# with open('anonimizedCT.txt', 'r',encoding='utf-8') as fp: \n",
    "#     data2 = fp.read() \n",
    "# #print(data2)\n"
   ]
  },
  {
   "cell_type": "markdown",
   "metadata": {},
   "source": [
    "get all file with file-path (ill merge later this files)"
   ]
  },
  {
   "cell_type": "code",
   "execution_count": 1,
   "metadata": {},
   "outputs": [],
   "source": [
    "import glob\n",
    "\n",
    "files = glob.glob( 'books' + '/**/*.txt', recursive=True)\n",
    "#files[0]"
   ]
  },
  {
   "cell_type": "code",
   "execution_count": 2,
   "metadata": {},
   "outputs": [
    {
     "data": {
      "text/plain": [
       "['books/Zs Benedek Elek/16486.txt',\n",
       " 'books/Zs Benedek Elek/04865.txt',\n",
       " 'books/Zs Benedek Elek/12551.txt',\n",
       " 'books/Zs Benedek Elek/01.txt',\n",
       " 'books/Zs Benedek Elek/04873.txt',\n",
       " 'books/Zs Benedek Elek/ezer1_01.txt',\n",
       " 'books/Zs Benedek Elek/ezer1_03.txt',\n",
       " 'books/Zs Benedek Elek/02.txt',\n",
       " 'books/Zs Benedek Elek/14483.txt',\n",
       " 'books/Zs Benedek Elek/04833.txt',\n",
       " 'books/Zs Benedek Elek/10149.txt',\n",
       " 'books/Zs Benedek Elek/ezer1_02.txt',\n",
       " 'books/Zs Benedek Elek/04776.txt',\n",
       " 'books/Zs Benedek Elek/03059.txt',\n",
       " 'books/Zs Benedek Elek/11702.txt',\n",
       " 'books/Zs Benedek Elek/13363.txt',\n",
       " 'books/Zs Benedek Elek/14003.txt',\n",
       " 'books/Szilard/a_tizenot_eves_kapitany.txt',\n",
       " 'books/Szilard/het_lakat_alatt.txt',\n",
       " 'books/Szilard/a_relytelmes_sziget.txt',\n",
       " 'books/Szilard/varkastely a karpatokban.txt',\n",
       " 'books/Szilard/nemo_kapitany.txt',\n",
       " 'books/Szilard/nyakiglab_apo.txt',\n",
       " 'books/Szilard/egy_kinai_viszontagsagai.txt',\n",
       " 'books/Szilard/a_farol_lepotyogni_tilos.txt',\n",
       " 'books/Szilard/arany_laszlo3.txt',\n",
       " 'books/Szilard/grimm.txt',\n",
       " 'books/Szilard/sztrogof_mihaly.txt',\n",
       " 'books/Szilard/utazas_a_holdba.txt',\n",
       " 'books/Szilard/kis_koszonto.txt',\n",
       " 'books/Szilard/sandor_matyas.txt',\n",
       " 'books/Szilard/arany_laszlo2.txt',\n",
       " 'books/Szilard/hodito_robur.txt',\n",
       " 'books/Szilard/ketevi_vakacio.txt',\n",
       " 'books/Szilard/arany_laszlo.txt',\n",
       " 'books/Szilard/80_nap_alatt.txt',\n",
       " 'books/Szilard/vilagfelfordulas.txt',\n",
       " 'books/Adam/bab_berci_kalandjai.txt',\n",
       " 'books/Adam/negyen_meg_a_beka.txt',\n",
       " 'books/Adam/a_kinai_csaszar_elefantja.txt',\n",
       " 'books/Adam/a_kisfiu_meg_az_oroszlanok.txt',\n",
       " 'books/Adam/a_teli_tucsok_mesei.txt',\n",
       " 'books/Adam/a_kis_kakas.txt',\n",
       " 'books/Adam/hapci_kiraly.txt',\n",
       " 'books/Adam/a_tusko.txt',\n",
       " 'books/Adam/szegeny_dzsoni_es_arnika.txt',\n",
       " 'books/Adam/a_negyszogletu_kerek_erdo.txt',\n",
       " 'books/Adam/berzsian_es_dideki.txt',\n",
       " 'books/Adam/a_mi_varosunk.txt',\n",
       " 'books/Adam/a_varazslo_vendegei.txt',\n",
       " 'books/Adam/a_manogyar.txt',\n",
       " 'books/Adam/a_hetfeju_tunder.txt']"
      ]
     },
     "execution_count": 2,
     "metadata": {},
     "output_type": "execute_result"
    }
   ],
   "source": [
    "files"
   ]
  },
  {
   "cell_type": "markdown",
   "metadata": {},
   "source": [
    "File shuffling (It will be needed later, by generating train, test, valid database) (this part makes that part random)"
   ]
  },
  {
   "cell_type": "code",
   "execution_count": 5,
   "metadata": {},
   "outputs": [
    {
     "data": {
      "text/plain": [
       "['books/Adam/a_negyszogletu_kerek_erdo.txt',\n",
       " 'books/Szilard/kis_koszonto.txt',\n",
       " 'books/Szilard/a_relytelmes_sziget.txt',\n",
       " 'books/Adam/a_tusko.txt',\n",
       " 'books/Szilard/vilagfelfordulas.txt',\n",
       " 'books/Szilard/sandor_matyas.txt',\n",
       " 'books/Zs Benedek Elek/01.txt',\n",
       " 'books/Szilard/grimm.txt',\n",
       " 'books/Adam/a_kisfiu_meg_az_oroszlanok.txt',\n",
       " 'books/Szilard/ketevi_vakacio.txt',\n",
       " 'books/Zs Benedek Elek/13363.txt',\n",
       " 'books/Zs Benedek Elek/02.txt',\n",
       " 'books/Adam/szegeny_dzsoni_es_arnika.txt',\n",
       " 'books/Adam/hapci_kiraly.txt',\n",
       " 'books/Szilard/80_nap_alatt.txt',\n",
       " 'books/Zs Benedek Elek/ezer1_02.txt',\n",
       " 'books/Szilard/arany_laszlo2.txt',\n",
       " 'books/Adam/a_manogyar.txt',\n",
       " 'books/Adam/a_kinai_csaszar_elefantja.txt',\n",
       " 'books/Zs Benedek Elek/04776.txt',\n",
       " 'books/Zs Benedek Elek/14003.txt',\n",
       " 'books/Adam/negyen_meg_a_beka.txt',\n",
       " 'books/Adam/bab_berci_kalandjai.txt',\n",
       " 'books/Adam/berzsian_es_dideki.txt',\n",
       " 'books/Zs Benedek Elek/16486.txt',\n",
       " 'books/Zs Benedek Elek/ezer1_01.txt',\n",
       " 'books/Zs Benedek Elek/12551.txt',\n",
       " 'books/Szilard/nyakiglab_apo.txt',\n",
       " 'books/Szilard/nemo_kapitany.txt',\n",
       " 'books/Szilard/utazas_a_holdba.txt',\n",
       " 'books/Zs Benedek Elek/04833.txt',\n",
       " 'books/Szilard/arany_laszlo.txt',\n",
       " 'books/Zs Benedek Elek/03059.txt',\n",
       " 'books/Adam/a_hetfeju_tunder.txt',\n",
       " 'books/Adam/a_teli_tucsok_mesei.txt',\n",
       " 'books/Szilard/hodito_robur.txt',\n",
       " 'books/Szilard/het_lakat_alatt.txt',\n",
       " 'books/Zs Benedek Elek/04873.txt',\n",
       " 'books/Zs Benedek Elek/04865.txt',\n",
       " 'books/Adam/a_kis_kakas.txt',\n",
       " 'books/Szilard/arany_laszlo3.txt',\n",
       " 'books/Zs Benedek Elek/11702.txt',\n",
       " 'books/Szilard/a_tizenot_eves_kapitany.txt',\n",
       " 'books/Zs Benedek Elek/10149.txt',\n",
       " 'books/Adam/a_varazslo_vendegei.txt',\n",
       " 'books/Szilard/varkastely a karpatokban.txt',\n",
       " 'books/Zs Benedek Elek/14483.txt',\n",
       " 'books/Szilard/egy_kinai_viszontagsagai.txt',\n",
       " 'books/Szilard/sztrogof_mihaly.txt',\n",
       " 'books/Adam/a_mi_varosunk.txt',\n",
       " 'books/Zs Benedek Elek/ezer1_03.txt',\n",
       " 'books/Szilard/a_farol_lepotyogni_tilos.txt']"
      ]
     },
     "execution_count": 5,
     "metadata": {},
     "output_type": "execute_result"
    }
   ],
   "source": [
    "import random\n",
    "random.shuffle(files)\n",
    "files "
   ]
  },
  {
   "cell_type": "code",
   "execution_count": 6,
   "metadata": {},
   "outputs": [
    {
     "name": "stdout",
     "output_type": "stream",
     "text": [
      "0\n",
      "1\n",
      "2\n",
      "3\n",
      "4\n",
      "5\n",
      "6\n",
      "7\n",
      "8\n",
      "9\n",
      "10\n",
      "11\n",
      "12\n",
      "13\n",
      "14\n",
      "15\n",
      "16\n",
      "17\n",
      "18\n",
      "19\n",
      "20\n",
      "21\n",
      "22\n",
      "23\n",
      "24\n",
      "25\n",
      "26\n",
      "27\n",
      "28\n",
      "29\n",
      "30\n",
      "31\n",
      "32\n",
      "33\n",
      "34\n",
      "35\n",
      "36\n",
      "37\n",
      "38\n",
      "39\n",
      "40\n",
      "41\n",
      "42\n",
      "43\n",
      "44\n",
      "45\n",
      "46\n",
      "47\n",
      "48\n",
      "49\n",
      "50\n",
      "51\n"
     ]
    }
   ],
   "source": [
    "#read in each files\n",
    "i=0\n",
    "data = []\n",
    "while i<len(files):\n",
    "  with open(files[i], 'r',encoding='utf-8') as fp: \n",
    "    print(i)\n",
    "    data.append(fp.read()) \n",
    "    i=i+1\n",
    "    \n",
    "i=0\n",
    "combinedalldata=''\n",
    "#combine files\n",
    "while i<len(files):\n",
    "    combinedalldata=data[i]+combinedalldata\n",
    "    i=i+1\n",
    "\n",
    "with open('combinedalldata.txt','w',encoding='utf-8') as output:\n",
    "    output.write(combinedalldata)"
   ]
  },
  {
   "cell_type": "code",
   "execution_count": null,
   "metadata": {},
   "outputs": [],
   "source": []
  },
  {
   "cell_type": "code",
   "execution_count": null,
   "metadata": {},
   "outputs": [],
   "source": []
  },
  {
   "cell_type": "code",
   "execution_count": null,
   "metadata": {},
   "outputs": [],
   "source": []
  }
 ],
 "metadata": {
  "kernelspec": {
   "display_name": "Python 3",
   "language": "python",
   "name": "python3"
  },
  "language_info": {
   "codemirror_mode": {
    "name": "ipython",
    "version": 3
   },
   "file_extension": ".py",
   "mimetype": "text/x-python",
   "name": "python",
   "nbconvert_exporter": "python",
   "pygments_lexer": "ipython3",
   "version": "3.8.3"
  }
 },
 "nbformat": 4,
 "nbformat_minor": 4
}
